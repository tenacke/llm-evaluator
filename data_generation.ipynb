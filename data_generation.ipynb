{
 "cells": [
  {
   "cell_type": "code",
   "execution_count": 2,
   "id": "7792efc1",
   "metadata": {},
   "outputs": [],
   "source": [
    "import pandas as pd\n",
    "import json"
   ]
  },
  {
   "cell_type": "code",
   "execution_count": 4,
   "id": "a10e07a8",
   "metadata": {},
   "outputs": [
    {
     "data": {
      "application/vnd.microsoft.datawrangler.viewer.v0+json": {
       "columns": [
        {
         "name": "index",
         "rawType": "int64",
         "type": "integer"
        },
        {
         "name": "annotator_labels",
         "rawType": "object",
         "type": "unknown"
        },
        {
         "name": "captionID",
         "rawType": "object",
         "type": "string"
        },
        {
         "name": "gold_label",
         "rawType": "object",
         "type": "string"
        },
        {
         "name": "pairID",
         "rawType": "object",
         "type": "string"
        },
        {
         "name": "sentence1",
         "rawType": "object",
         "type": "string"
        },
        {
         "name": "sentence1_binary_parse",
         "rawType": "object",
         "type": "string"
        },
        {
         "name": "sentence1_parse",
         "rawType": "object",
         "type": "string"
        },
        {
         "name": "sentence2",
         "rawType": "object",
         "type": "string"
        },
        {
         "name": "sentence2_binary_parse",
         "rawType": "object",
         "type": "string"
        },
        {
         "name": "sentence2_parse",
         "rawType": "object",
         "type": "string"
        }
       ],
       "conversionMethod": "pd.DataFrame",
       "ref": "723e52bd-860f-43b9-a7ee-71738509b0bf",
       "rows": [
        [
         "0",
         "['neutral', 'contradiction', 'contradiction', 'neutral', 'neutral']",
         "2677109430.jpg#1",
         "neutral",
         "2677109430.jpg#1r1n",
         "This church choir sings to the masses as they sing joyous songs from the book at a church.",
         "( ( This ( church choir ) ) ( ( ( sings ( to ( the masses ) ) ) ( as ( they ( ( sing ( joyous songs ) ) ( from ( ( the book ) ( at ( a church ) ) ) ) ) ) ) ) . ) )",
         "(ROOT (S (NP (DT This) (NN church) (NN choir)) (VP (VBZ sings) (PP (TO to) (NP (DT the) (NNS masses))) (SBAR (IN as) (S (NP (PRP they)) (VP (VBP sing) (NP (JJ joyous) (NNS songs)) (PP (IN from) (NP (NP (DT the) (NN book)) (PP (IN at) (NP (DT a) (NN church))))))))) (. .)))",
         "The church has cracks in the ceiling.",
         "( ( The church ) ( ( has ( cracks ( in ( the ceiling ) ) ) ) . ) )",
         "(ROOT (S (NP (DT The) (NN church)) (VP (VBZ has) (NP (NP (NNS cracks)) (PP (IN in) (NP (DT the) (NN ceiling))))) (. .)))"
        ],
        [
         "1",
         "['entailment', 'entailment', 'entailment', 'neutral', 'entailment']",
         "2677109430.jpg#1",
         "entailment",
         "2677109430.jpg#1r1e",
         "This church choir sings to the masses as they sing joyous songs from the book at a church.",
         "( ( This ( church choir ) ) ( ( ( sings ( to ( the masses ) ) ) ( as ( they ( ( sing ( joyous songs ) ) ( from ( ( the book ) ( at ( a church ) ) ) ) ) ) ) ) . ) )",
         "(ROOT (S (NP (DT This) (NN church) (NN choir)) (VP (VBZ sings) (PP (TO to) (NP (DT the) (NNS masses))) (SBAR (IN as) (S (NP (PRP they)) (VP (VBP sing) (NP (JJ joyous) (NNS songs)) (PP (IN from) (NP (NP (DT the) (NN book)) (PP (IN at) (NP (DT a) (NN church))))))))) (. .)))",
         "The church is filled with song.",
         "( ( The church ) ( ( is ( filled ( with song ) ) ) . ) )",
         "(ROOT (S (NP (DT The) (NN church)) (VP (VBZ is) (VP (VBN filled) (PP (IN with) (NP (NN song))))) (. .)))"
        ],
        [
         "2",
         "['contradiction', 'contradiction', 'contradiction', 'contradiction', 'contradiction']",
         "2677109430.jpg#1",
         "contradiction",
         "2677109430.jpg#1r1c",
         "This church choir sings to the masses as they sing joyous songs from the book at a church.",
         "( ( This ( church choir ) ) ( ( ( sings ( to ( the masses ) ) ) ( as ( they ( ( sing ( joyous songs ) ) ( from ( ( the book ) ( at ( a church ) ) ) ) ) ) ) ) . ) )",
         "(ROOT (S (NP (DT This) (NN church) (NN choir)) (VP (VBZ sings) (PP (TO to) (NP (DT the) (NNS masses))) (SBAR (IN as) (S (NP (PRP they)) (VP (VBP sing) (NP (JJ joyous) (NNS songs)) (PP (IN from) (NP (NP (DT the) (NN book)) (PP (IN at) (NP (DT a) (NN church))))))))) (. .)))",
         "A choir singing at a baseball game.",
         "( ( ( A choir ) ( singing ( at ( a ( baseball game ) ) ) ) ) . )",
         "(ROOT (NP (NP (DT A) (NN choir)) (VP (VBG singing) (PP (IN at) (NP (DT a) (NN baseball) (NN game)))) (. .)))"
        ],
        [
         "3",
         "['neutral', 'neutral', 'neutral', 'neutral', 'neutral']",
         "6160193920.jpg#4",
         "neutral",
         "6160193920.jpg#4r1n",
         "A woman with a green headscarf, blue shirt and a very big grin.",
         "( ( ( A woman ) ( with ( ( ( ( ( a ( green headscarf ) ) , ) ( blue shirt ) ) and ) ( a ( ( very big ) grin ) ) ) ) ) . )",
         "(ROOT (NP (NP (DT A) (NN woman)) (PP (IN with) (NP (NP (DT a) (JJ green) (NN headscarf)) (, ,) (NP (JJ blue) (NN shirt)) (CC and) (NP (DT a) (ADJP (RB very) (JJ big)) (NN grin)))) (. .)))",
         "The woman is young.",
         "( ( The woman ) ( ( is young ) . ) )",
         "(ROOT (S (NP (DT The) (NN woman)) (VP (VBZ is) (ADJP (JJ young))) (. .)))"
        ],
        [
         "4",
         "['entailment', 'entailment', 'contradiction', 'entailment', 'neutral']",
         "6160193920.jpg#4",
         "entailment",
         "6160193920.jpg#4r1e",
         "A woman with a green headscarf, blue shirt and a very big grin.",
         "( ( ( A woman ) ( with ( ( ( ( ( a ( green headscarf ) ) , ) ( blue shirt ) ) and ) ( a ( ( very big ) grin ) ) ) ) ) . )",
         "(ROOT (NP (NP (DT A) (NN woman)) (PP (IN with) (NP (NP (DT a) (JJ green) (NN headscarf)) (, ,) (NP (JJ blue) (NN shirt)) (CC and) (NP (DT a) (ADJP (RB very) (JJ big)) (NN grin)))) (. .)))",
         "The woman is very happy.",
         "( ( The woman ) ( ( is ( very happy ) ) . ) )",
         "(ROOT (S (NP (DT The) (NN woman)) (VP (VBZ is) (ADJP (RB very) (JJ happy))) (. .)))"
        ]
       ],
       "shape": {
        "columns": 10,
        "rows": 5
       }
      },
      "text/html": [
       "<div>\n",
       "<style scoped>\n",
       "    .dataframe tbody tr th:only-of-type {\n",
       "        vertical-align: middle;\n",
       "    }\n",
       "\n",
       "    .dataframe tbody tr th {\n",
       "        vertical-align: top;\n",
       "    }\n",
       "\n",
       "    .dataframe thead th {\n",
       "        text-align: right;\n",
       "    }\n",
       "</style>\n",
       "<table border=\"1\" class=\"dataframe\">\n",
       "  <thead>\n",
       "    <tr style=\"text-align: right;\">\n",
       "      <th></th>\n",
       "      <th>annotator_labels</th>\n",
       "      <th>captionID</th>\n",
       "      <th>gold_label</th>\n",
       "      <th>pairID</th>\n",
       "      <th>sentence1</th>\n",
       "      <th>sentence1_binary_parse</th>\n",
       "      <th>sentence1_parse</th>\n",
       "      <th>sentence2</th>\n",
       "      <th>sentence2_binary_parse</th>\n",
       "      <th>sentence2_parse</th>\n",
       "    </tr>\n",
       "  </thead>\n",
       "  <tbody>\n",
       "    <tr>\n",
       "      <th>0</th>\n",
       "      <td>[neutral, contradiction, contradiction, neutra...</td>\n",
       "      <td>2677109430.jpg#1</td>\n",
       "      <td>neutral</td>\n",
       "      <td>2677109430.jpg#1r1n</td>\n",
       "      <td>This church choir sings to the masses as they ...</td>\n",
       "      <td>( ( This ( church choir ) ) ( ( ( sings ( to (...</td>\n",
       "      <td>(ROOT (S (NP (DT This) (NN church) (NN choir))...</td>\n",
       "      <td>The church has cracks in the ceiling.</td>\n",
       "      <td>( ( The church ) ( ( has ( cracks ( in ( the c...</td>\n",
       "      <td>(ROOT (S (NP (DT The) (NN church)) (VP (VBZ ha...</td>\n",
       "    </tr>\n",
       "    <tr>\n",
       "      <th>1</th>\n",
       "      <td>[entailment, entailment, entailment, neutral, ...</td>\n",
       "      <td>2677109430.jpg#1</td>\n",
       "      <td>entailment</td>\n",
       "      <td>2677109430.jpg#1r1e</td>\n",
       "      <td>This church choir sings to the masses as they ...</td>\n",
       "      <td>( ( This ( church choir ) ) ( ( ( sings ( to (...</td>\n",
       "      <td>(ROOT (S (NP (DT This) (NN church) (NN choir))...</td>\n",
       "      <td>The church is filled with song.</td>\n",
       "      <td>( ( The church ) ( ( is ( filled ( with song )...</td>\n",
       "      <td>(ROOT (S (NP (DT The) (NN church)) (VP (VBZ is...</td>\n",
       "    </tr>\n",
       "    <tr>\n",
       "      <th>2</th>\n",
       "      <td>[contradiction, contradiction, contradiction, ...</td>\n",
       "      <td>2677109430.jpg#1</td>\n",
       "      <td>contradiction</td>\n",
       "      <td>2677109430.jpg#1r1c</td>\n",
       "      <td>This church choir sings to the masses as they ...</td>\n",
       "      <td>( ( This ( church choir ) ) ( ( ( sings ( to (...</td>\n",
       "      <td>(ROOT (S (NP (DT This) (NN church) (NN choir))...</td>\n",
       "      <td>A choir singing at a baseball game.</td>\n",
       "      <td>( ( ( A choir ) ( singing ( at ( a ( baseball ...</td>\n",
       "      <td>(ROOT (NP (NP (DT A) (NN choir)) (VP (VBG sing...</td>\n",
       "    </tr>\n",
       "    <tr>\n",
       "      <th>3</th>\n",
       "      <td>[neutral, neutral, neutral, neutral, neutral]</td>\n",
       "      <td>6160193920.jpg#4</td>\n",
       "      <td>neutral</td>\n",
       "      <td>6160193920.jpg#4r1n</td>\n",
       "      <td>A woman with a green headscarf, blue shirt and...</td>\n",
       "      <td>( ( ( A woman ) ( with ( ( ( ( ( a ( green hea...</td>\n",
       "      <td>(ROOT (NP (NP (DT A) (NN woman)) (PP (IN with)...</td>\n",
       "      <td>The woman is young.</td>\n",
       "      <td>( ( The woman ) ( ( is young ) . ) )</td>\n",
       "      <td>(ROOT (S (NP (DT The) (NN woman)) (VP (VBZ is)...</td>\n",
       "    </tr>\n",
       "    <tr>\n",
       "      <th>4</th>\n",
       "      <td>[entailment, entailment, contradiction, entail...</td>\n",
       "      <td>6160193920.jpg#4</td>\n",
       "      <td>entailment</td>\n",
       "      <td>6160193920.jpg#4r1e</td>\n",
       "      <td>A woman with a green headscarf, blue shirt and...</td>\n",
       "      <td>( ( ( A woman ) ( with ( ( ( ( ( a ( green hea...</td>\n",
       "      <td>(ROOT (NP (NP (DT A) (NN woman)) (PP (IN with)...</td>\n",
       "      <td>The woman is very happy.</td>\n",
       "      <td>( ( The woman ) ( ( is ( very happy ) ) . ) )</td>\n",
       "      <td>(ROOT (S (NP (DT The) (NN woman)) (VP (VBZ is)...</td>\n",
       "    </tr>\n",
       "  </tbody>\n",
       "</table>\n",
       "</div>"
      ],
      "text/plain": [
       "                                    annotator_labels         captionID  \\\n",
       "0  [neutral, contradiction, contradiction, neutra...  2677109430.jpg#1   \n",
       "1  [entailment, entailment, entailment, neutral, ...  2677109430.jpg#1   \n",
       "2  [contradiction, contradiction, contradiction, ...  2677109430.jpg#1   \n",
       "3      [neutral, neutral, neutral, neutral, neutral]  6160193920.jpg#4   \n",
       "4  [entailment, entailment, contradiction, entail...  6160193920.jpg#4   \n",
       "\n",
       "      gold_label               pairID  \\\n",
       "0        neutral  2677109430.jpg#1r1n   \n",
       "1     entailment  2677109430.jpg#1r1e   \n",
       "2  contradiction  2677109430.jpg#1r1c   \n",
       "3        neutral  6160193920.jpg#4r1n   \n",
       "4     entailment  6160193920.jpg#4r1e   \n",
       "\n",
       "                                           sentence1  \\\n",
       "0  This church choir sings to the masses as they ...   \n",
       "1  This church choir sings to the masses as they ...   \n",
       "2  This church choir sings to the masses as they ...   \n",
       "3  A woman with a green headscarf, blue shirt and...   \n",
       "4  A woman with a green headscarf, blue shirt and...   \n",
       "\n",
       "                              sentence1_binary_parse  \\\n",
       "0  ( ( This ( church choir ) ) ( ( ( sings ( to (...   \n",
       "1  ( ( This ( church choir ) ) ( ( ( sings ( to (...   \n",
       "2  ( ( This ( church choir ) ) ( ( ( sings ( to (...   \n",
       "3  ( ( ( A woman ) ( with ( ( ( ( ( a ( green hea...   \n",
       "4  ( ( ( A woman ) ( with ( ( ( ( ( a ( green hea...   \n",
       "\n",
       "                                     sentence1_parse  \\\n",
       "0  (ROOT (S (NP (DT This) (NN church) (NN choir))...   \n",
       "1  (ROOT (S (NP (DT This) (NN church) (NN choir))...   \n",
       "2  (ROOT (S (NP (DT This) (NN church) (NN choir))...   \n",
       "3  (ROOT (NP (NP (DT A) (NN woman)) (PP (IN with)...   \n",
       "4  (ROOT (NP (NP (DT A) (NN woman)) (PP (IN with)...   \n",
       "\n",
       "                               sentence2  \\\n",
       "0  The church has cracks in the ceiling.   \n",
       "1        The church is filled with song.   \n",
       "2    A choir singing at a baseball game.   \n",
       "3                    The woman is young.   \n",
       "4               The woman is very happy.   \n",
       "\n",
       "                              sentence2_binary_parse  \\\n",
       "0  ( ( The church ) ( ( has ( cracks ( in ( the c...   \n",
       "1  ( ( The church ) ( ( is ( filled ( with song )...   \n",
       "2  ( ( ( A choir ) ( singing ( at ( a ( baseball ...   \n",
       "3               ( ( The woman ) ( ( is young ) . ) )   \n",
       "4      ( ( The woman ) ( ( is ( very happy ) ) . ) )   \n",
       "\n",
       "                                     sentence2_parse  \n",
       "0  (ROOT (S (NP (DT The) (NN church)) (VP (VBZ ha...  \n",
       "1  (ROOT (S (NP (DT The) (NN church)) (VP (VBZ is...  \n",
       "2  (ROOT (NP (NP (DT A) (NN choir)) (VP (VBG sing...  \n",
       "3  (ROOT (S (NP (DT The) (NN woman)) (VP (VBZ is)...  \n",
       "4  (ROOT (S (NP (DT The) (NN woman)) (VP (VBZ is)...  "
      ]
     },
     "execution_count": 4,
     "metadata": {},
     "output_type": "execute_result"
    }
   ],
   "source": [
    "with open(\"datasets/snli/snli_1.0/snli_1.0_test_batch.jsonl\", \"r\") as f:\n",
    "    # Read the JSON lines into a list\n",
    "    json_list = [json.loads(line) for line in f]\n",
    "\n",
    "df = pd.DataFrame(json_list)\n",
    "df.head()"
   ]
  },
  {
   "cell_type": "code",
   "execution_count": 5,
   "id": "7d3a0eec",
   "metadata": {},
   "outputs": [
    {
     "data": {
      "application/vnd.microsoft.datawrangler.viewer.v0+json": {
       "columns": [
        {
         "name": "index",
         "rawType": "int64",
         "type": "integer"
        },
        {
         "name": "sentence1",
         "rawType": "object",
         "type": "string"
        },
        {
         "name": "sentence2",
         "rawType": "object",
         "type": "string"
        },
        {
         "name": "gold_label",
         "rawType": "object",
         "type": "string"
        }
       ],
       "conversionMethod": "pd.DataFrame",
       "ref": "32b977fe-ab12-4683-924b-6843a9e5cecb",
       "rows": [
        [
         "0",
         "This church choir sings to the masses as they sing joyous songs from the book at a church.",
         "The church has cracks in the ceiling.",
         "neutral"
        ],
        [
         "1",
         "This church choir sings to the masses as they sing joyous songs from the book at a church.",
         "The church is filled with song.",
         "entailment"
        ],
        [
         "2",
         "This church choir sings to the masses as they sing joyous songs from the book at a church.",
         "A choir singing at a baseball game.",
         "contradiction"
        ],
        [
         "3",
         "A woman with a green headscarf, blue shirt and a very big grin.",
         "The woman is young.",
         "neutral"
        ],
        [
         "4",
         "A woman with a green headscarf, blue shirt and a very big grin.",
         "The woman is very happy.",
         "entailment"
        ]
       ],
       "shape": {
        "columns": 3,
        "rows": 5
       }
      },
      "text/html": [
       "<div>\n",
       "<style scoped>\n",
       "    .dataframe tbody tr th:only-of-type {\n",
       "        vertical-align: middle;\n",
       "    }\n",
       "\n",
       "    .dataframe tbody tr th {\n",
       "        vertical-align: top;\n",
       "    }\n",
       "\n",
       "    .dataframe thead th {\n",
       "        text-align: right;\n",
       "    }\n",
       "</style>\n",
       "<table border=\"1\" class=\"dataframe\">\n",
       "  <thead>\n",
       "    <tr style=\"text-align: right;\">\n",
       "      <th></th>\n",
       "      <th>sentence1</th>\n",
       "      <th>sentence2</th>\n",
       "      <th>gold_label</th>\n",
       "    </tr>\n",
       "  </thead>\n",
       "  <tbody>\n",
       "    <tr>\n",
       "      <th>0</th>\n",
       "      <td>This church choir sings to the masses as they ...</td>\n",
       "      <td>The church has cracks in the ceiling.</td>\n",
       "      <td>neutral</td>\n",
       "    </tr>\n",
       "    <tr>\n",
       "      <th>1</th>\n",
       "      <td>This church choir sings to the masses as they ...</td>\n",
       "      <td>The church is filled with song.</td>\n",
       "      <td>entailment</td>\n",
       "    </tr>\n",
       "    <tr>\n",
       "      <th>2</th>\n",
       "      <td>This church choir sings to the masses as they ...</td>\n",
       "      <td>A choir singing at a baseball game.</td>\n",
       "      <td>contradiction</td>\n",
       "    </tr>\n",
       "    <tr>\n",
       "      <th>3</th>\n",
       "      <td>A woman with a green headscarf, blue shirt and...</td>\n",
       "      <td>The woman is young.</td>\n",
       "      <td>neutral</td>\n",
       "    </tr>\n",
       "    <tr>\n",
       "      <th>4</th>\n",
       "      <td>A woman with a green headscarf, blue shirt and...</td>\n",
       "      <td>The woman is very happy.</td>\n",
       "      <td>entailment</td>\n",
       "    </tr>\n",
       "  </tbody>\n",
       "</table>\n",
       "</div>"
      ],
      "text/plain": [
       "                                           sentence1  \\\n",
       "0  This church choir sings to the masses as they ...   \n",
       "1  This church choir sings to the masses as they ...   \n",
       "2  This church choir sings to the masses as they ...   \n",
       "3  A woman with a green headscarf, blue shirt and...   \n",
       "4  A woman with a green headscarf, blue shirt and...   \n",
       "\n",
       "                               sentence2     gold_label  \n",
       "0  The church has cracks in the ceiling.        neutral  \n",
       "1        The church is filled with song.     entailment  \n",
       "2    A choir singing at a baseball game.  contradiction  \n",
       "3                    The woman is young.        neutral  \n",
       "4               The woman is very happy.     entailment  "
      ]
     },
     "execution_count": 5,
     "metadata": {},
     "output_type": "execute_result"
    }
   ],
   "source": [
    "df = df[[\"sentence1\", \"sentence2\", \"gold_label\"]]\n",
    "df.head()"
   ]
  },
  {
   "cell_type": "code",
   "execution_count": 6,
   "id": "376553dd",
   "metadata": {},
   "outputs": [],
   "source": [
    "import random\n",
    "def random_label():\n",
    "    return random.choice([\"entailment\", \"contradiction\", \"neutral\"])"
   ]
  },
  {
   "cell_type": "code",
   "execution_count": null,
   "id": "96b0e304",
   "metadata": {},
   "outputs": [
    {
     "data": {
      "application/vnd.microsoft.datawrangler.viewer.v0+json": {
       "columns": [
        {
         "name": "index",
         "rawType": "int64",
         "type": "integer"
        },
        {
         "name": "sentence1",
         "rawType": "object",
         "type": "string"
        },
        {
         "name": "sentence2",
         "rawType": "object",
         "type": "string"
        },
        {
         "name": "gold_label",
         "rawType": "object",
         "type": "string"
        },
        {
         "name": "result",
         "rawType": "object",
         "type": "string"
        }
       ],
       "conversionMethod": "pd.DataFrame",
       "ref": "9add617f-e6cd-43ad-a4c3-3a541f674e00",
       "rows": [
        [
         "0",
         "This church choir sings to the masses as they sing joyous songs from the book at a church.",
         "The church has cracks in the ceiling.",
         "neutral",
         "entailment"
        ],
        [
         "1",
         "This church choir sings to the masses as they sing joyous songs from the book at a church.",
         "The church is filled with song.",
         "entailment",
         "entailment"
        ],
        [
         "2",
         "This church choir sings to the masses as they sing joyous songs from the book at a church.",
         "A choir singing at a baseball game.",
         "contradiction",
         "contradiction"
        ],
        [
         "3",
         "A woman with a green headscarf, blue shirt and a very big grin.",
         "The woman is young.",
         "neutral",
         "contradiction"
        ],
        [
         "4",
         "A woman with a green headscarf, blue shirt and a very big grin.",
         "The woman is very happy.",
         "entailment",
         "entailment"
        ]
       ],
       "shape": {
        "columns": 4,
        "rows": 5
       }
      },
      "text/html": [
       "<div>\n",
       "<style scoped>\n",
       "    .dataframe tbody tr th:only-of-type {\n",
       "        vertical-align: middle;\n",
       "    }\n",
       "\n",
       "    .dataframe tbody tr th {\n",
       "        vertical-align: top;\n",
       "    }\n",
       "\n",
       "    .dataframe thead th {\n",
       "        text-align: right;\n",
       "    }\n",
       "</style>\n",
       "<table border=\"1\" class=\"dataframe\">\n",
       "  <thead>\n",
       "    <tr style=\"text-align: right;\">\n",
       "      <th></th>\n",
       "      <th>sentence1</th>\n",
       "      <th>sentence2</th>\n",
       "      <th>gold_label</th>\n",
       "      <th>result</th>\n",
       "    </tr>\n",
       "  </thead>\n",
       "  <tbody>\n",
       "    <tr>\n",
       "      <th>0</th>\n",
       "      <td>This church choir sings to the masses as they ...</td>\n",
       "      <td>The church has cracks in the ceiling.</td>\n",
       "      <td>neutral</td>\n",
       "      <td>entailment</td>\n",
       "    </tr>\n",
       "    <tr>\n",
       "      <th>1</th>\n",
       "      <td>This church choir sings to the masses as they ...</td>\n",
       "      <td>The church is filled with song.</td>\n",
       "      <td>entailment</td>\n",
       "      <td>entailment</td>\n",
       "    </tr>\n",
       "    <tr>\n",
       "      <th>2</th>\n",
       "      <td>This church choir sings to the masses as they ...</td>\n",
       "      <td>A choir singing at a baseball game.</td>\n",
       "      <td>contradiction</td>\n",
       "      <td>contradiction</td>\n",
       "    </tr>\n",
       "    <tr>\n",
       "      <th>3</th>\n",
       "      <td>A woman with a green headscarf, blue shirt and...</td>\n",
       "      <td>The woman is young.</td>\n",
       "      <td>neutral</td>\n",
       "      <td>contradiction</td>\n",
       "    </tr>\n",
       "    <tr>\n",
       "      <th>4</th>\n",
       "      <td>A woman with a green headscarf, blue shirt and...</td>\n",
       "      <td>The woman is very happy.</td>\n",
       "      <td>entailment</td>\n",
       "      <td>entailment</td>\n",
       "    </tr>\n",
       "  </tbody>\n",
       "</table>\n",
       "</div>"
      ],
      "text/plain": [
       "                                           sentence1  \\\n",
       "0  This church choir sings to the masses as they ...   \n",
       "1  This church choir sings to the masses as they ...   \n",
       "2  This church choir sings to the masses as they ...   \n",
       "3  A woman with a green headscarf, blue shirt and...   \n",
       "4  A woman with a green headscarf, blue shirt and...   \n",
       "\n",
       "                               sentence2     gold_label         result  \n",
       "0  The church has cracks in the ceiling.        neutral     entailment  \n",
       "1        The church is filled with song.     entailment     entailment  \n",
       "2    A choir singing at a baseball game.  contradiction  contradiction  \n",
       "3                    The woman is young.        neutral  contradiction  \n",
       "4               The woman is very happy.     entailment     entailment  "
      ]
     },
     "execution_count": 8,
     "metadata": {},
     "output_type": "execute_result"
    }
   ],
   "source": [
    "# create a copy dataframe\n",
    "random_results = df.copy()\n",
    "\n",
    "random_results[\"result\"] = random_results.apply(lambda x: random_label(), axis=1)"
   ]
  },
  {
   "cell_type": "code",
   "execution_count": 9,
   "id": "919edcec",
   "metadata": {},
   "outputs": [
    {
     "data": {
      "application/vnd.microsoft.datawrangler.viewer.v0+json": {
       "columns": [
        {
         "name": "index",
         "rawType": "int64",
         "type": "integer"
        },
        {
         "name": "sentence1",
         "rawType": "object",
         "type": "string"
        },
        {
         "name": "sentence2",
         "rawType": "object",
         "type": "string"
        },
        {
         "name": "gold_label",
         "rawType": "object",
         "type": "string"
        },
        {
         "name": "result",
         "rawType": "object",
         "type": "string"
        }
       ],
       "conversionMethod": "pd.DataFrame",
       "ref": "a36b6a31-1450-4a43-b1c8-debdfda2c386",
       "rows": [
        [
         "0",
         "This church choir sings to the masses as they sing joyous songs from the book at a church.",
         "The church has cracks in the ceiling.",
         "neutral",
         "entailment"
        ],
        [
         "1",
         "This church choir sings to the masses as they sing joyous songs from the book at a church.",
         "The church is filled with song.",
         "entailment",
         "entailment"
        ],
        [
         "2",
         "This church choir sings to the masses as they sing joyous songs from the book at a church.",
         "A choir singing at a baseball game.",
         "contradiction",
         "contradiction"
        ],
        [
         "3",
         "A woman with a green headscarf, blue shirt and a very big grin.",
         "The woman is young.",
         "neutral",
         "contradiction"
        ],
        [
         "4",
         "A woman with a green headscarf, blue shirt and a very big grin.",
         "The woman is very happy.",
         "entailment",
         "entailment"
        ]
       ],
       "shape": {
        "columns": 4,
        "rows": 5
       }
      },
      "text/html": [
       "<div>\n",
       "<style scoped>\n",
       "    .dataframe tbody tr th:only-of-type {\n",
       "        vertical-align: middle;\n",
       "    }\n",
       "\n",
       "    .dataframe tbody tr th {\n",
       "        vertical-align: top;\n",
       "    }\n",
       "\n",
       "    .dataframe thead th {\n",
       "        text-align: right;\n",
       "    }\n",
       "</style>\n",
       "<table border=\"1\" class=\"dataframe\">\n",
       "  <thead>\n",
       "    <tr style=\"text-align: right;\">\n",
       "      <th></th>\n",
       "      <th>sentence1</th>\n",
       "      <th>sentence2</th>\n",
       "      <th>gold_label</th>\n",
       "      <th>result</th>\n",
       "    </tr>\n",
       "  </thead>\n",
       "  <tbody>\n",
       "    <tr>\n",
       "      <th>0</th>\n",
       "      <td>This church choir sings to the masses as they ...</td>\n",
       "      <td>The church has cracks in the ceiling.</td>\n",
       "      <td>neutral</td>\n",
       "      <td>entailment</td>\n",
       "    </tr>\n",
       "    <tr>\n",
       "      <th>1</th>\n",
       "      <td>This church choir sings to the masses as they ...</td>\n",
       "      <td>The church is filled with song.</td>\n",
       "      <td>entailment</td>\n",
       "      <td>entailment</td>\n",
       "    </tr>\n",
       "    <tr>\n",
       "      <th>2</th>\n",
       "      <td>This church choir sings to the masses as they ...</td>\n",
       "      <td>A choir singing at a baseball game.</td>\n",
       "      <td>contradiction</td>\n",
       "      <td>contradiction</td>\n",
       "    </tr>\n",
       "    <tr>\n",
       "      <th>3</th>\n",
       "      <td>A woman with a green headscarf, blue shirt and...</td>\n",
       "      <td>The woman is young.</td>\n",
       "      <td>neutral</td>\n",
       "      <td>contradiction</td>\n",
       "    </tr>\n",
       "    <tr>\n",
       "      <th>4</th>\n",
       "      <td>A woman with a green headscarf, blue shirt and...</td>\n",
       "      <td>The woman is very happy.</td>\n",
       "      <td>entailment</td>\n",
       "      <td>entailment</td>\n",
       "    </tr>\n",
       "  </tbody>\n",
       "</table>\n",
       "</div>"
      ],
      "text/plain": [
       "                                           sentence1  \\\n",
       "0  This church choir sings to the masses as they ...   \n",
       "1  This church choir sings to the masses as they ...   \n",
       "2  This church choir sings to the masses as they ...   \n",
       "3  A woman with a green headscarf, blue shirt and...   \n",
       "4  A woman with a green headscarf, blue shirt and...   \n",
       "\n",
       "                               sentence2     gold_label         result  \n",
       "0  The church has cracks in the ceiling.        neutral     entailment  \n",
       "1        The church is filled with song.     entailment     entailment  \n",
       "2    A choir singing at a baseball game.  contradiction  contradiction  \n",
       "3                    The woman is young.        neutral  contradiction  \n",
       "4               The woman is very happy.     entailment     entailment  "
      ]
     },
     "execution_count": 9,
     "metadata": {},
     "output_type": "execute_result"
    }
   ],
   "source": [
    "random_results.head()   "
   ]
  },
  {
   "cell_type": "code",
   "execution_count": 10,
   "id": "84790e05",
   "metadata": {},
   "outputs": [
    {
     "data": {
      "text/plain": [
       "np.float64(0.324)"
      ]
     },
     "execution_count": 10,
     "metadata": {},
     "output_type": "execute_result"
    }
   ],
   "source": [
    "accuracy = (random_results[\"result\"] == random_results[\"gold_label\"]).mean()\n",
    "accuracy"
   ]
  },
  {
   "cell_type": "code",
   "execution_count": 11,
   "id": "f0f68140",
   "metadata": {},
   "outputs": [],
   "source": [
    "random_results.to_csv(\"random_results.csv\")"
   ]
  },
  {
   "cell_type": "code",
   "execution_count": 12,
   "id": "d544f711",
   "metadata": {},
   "outputs": [],
   "source": [
    "from transformers import pipeline"
   ]
  },
  {
   "cell_type": "code",
   "execution_count": 17,
   "id": "4c512e73",
   "metadata": {},
   "outputs": [
    {
     "name": "stderr",
     "output_type": "stream",
     "text": [
      "Device set to use mps:0\n"
     ]
    },
    {
     "data": {
      "application/vnd.microsoft.datawrangler.viewer.v0+json": {
       "columns": [
        {
         "name": "index",
         "rawType": "int64",
         "type": "integer"
        },
        {
         "name": "sentence1",
         "rawType": "object",
         "type": "string"
        },
        {
         "name": "sentence2",
         "rawType": "object",
         "type": "string"
        },
        {
         "name": "gold_label",
         "rawType": "object",
         "type": "string"
        },
        {
         "name": "result",
         "rawType": "object",
         "type": "string"
        }
       ],
       "conversionMethod": "pd.DataFrame",
       "ref": "32c2a1f7-f013-48fd-a05e-eaf8a9de27d8",
       "rows": [
        [
         "0",
         "This church choir sings to the masses as they sing joyous songs from the book at a church.",
         "The church has cracks in the ceiling.",
         "neutral",
         "neutral"
        ],
        [
         "1",
         "This church choir sings to the masses as they sing joyous songs from the book at a church.",
         "The church is filled with song.",
         "entailment",
         "entailment"
        ],
        [
         "2",
         "This church choir sings to the masses as they sing joyous songs from the book at a church.",
         "A choir singing at a baseball game.",
         "contradiction",
         "contradiction"
        ],
        [
         "3",
         "A woman with a green headscarf, blue shirt and a very big grin.",
         "The woman is young.",
         "neutral",
         "neutral"
        ],
        [
         "4",
         "A woman with a green headscarf, blue shirt and a very big grin.",
         "The woman is very happy.",
         "entailment",
         "entailment"
        ]
       ],
       "shape": {
        "columns": 4,
        "rows": 5
       }
      },
      "text/html": [
       "<div>\n",
       "<style scoped>\n",
       "    .dataframe tbody tr th:only-of-type {\n",
       "        vertical-align: middle;\n",
       "    }\n",
       "\n",
       "    .dataframe tbody tr th {\n",
       "        vertical-align: top;\n",
       "    }\n",
       "\n",
       "    .dataframe thead th {\n",
       "        text-align: right;\n",
       "    }\n",
       "</style>\n",
       "<table border=\"1\" class=\"dataframe\">\n",
       "  <thead>\n",
       "    <tr style=\"text-align: right;\">\n",
       "      <th></th>\n",
       "      <th>sentence1</th>\n",
       "      <th>sentence2</th>\n",
       "      <th>gold_label</th>\n",
       "      <th>result</th>\n",
       "    </tr>\n",
       "  </thead>\n",
       "  <tbody>\n",
       "    <tr>\n",
       "      <th>0</th>\n",
       "      <td>This church choir sings to the masses as they ...</td>\n",
       "      <td>The church has cracks in the ceiling.</td>\n",
       "      <td>neutral</td>\n",
       "      <td>neutral</td>\n",
       "    </tr>\n",
       "    <tr>\n",
       "      <th>1</th>\n",
       "      <td>This church choir sings to the masses as they ...</td>\n",
       "      <td>The church is filled with song.</td>\n",
       "      <td>entailment</td>\n",
       "      <td>entailment</td>\n",
       "    </tr>\n",
       "    <tr>\n",
       "      <th>2</th>\n",
       "      <td>This church choir sings to the masses as they ...</td>\n",
       "      <td>A choir singing at a baseball game.</td>\n",
       "      <td>contradiction</td>\n",
       "      <td>contradiction</td>\n",
       "    </tr>\n",
       "    <tr>\n",
       "      <th>3</th>\n",
       "      <td>A woman with a green headscarf, blue shirt and...</td>\n",
       "      <td>The woman is young.</td>\n",
       "      <td>neutral</td>\n",
       "      <td>neutral</td>\n",
       "    </tr>\n",
       "    <tr>\n",
       "      <th>4</th>\n",
       "      <td>A woman with a green headscarf, blue shirt and...</td>\n",
       "      <td>The woman is very happy.</td>\n",
       "      <td>entailment</td>\n",
       "      <td>entailment</td>\n",
       "    </tr>\n",
       "  </tbody>\n",
       "</table>\n",
       "</div>"
      ],
      "text/plain": [
       "                                           sentence1  \\\n",
       "0  This church choir sings to the masses as they ...   \n",
       "1  This church choir sings to the masses as they ...   \n",
       "2  This church choir sings to the masses as they ...   \n",
       "3  A woman with a green headscarf, blue shirt and...   \n",
       "4  A woman with a green headscarf, blue shirt and...   \n",
       "\n",
       "                               sentence2     gold_label         result  \n",
       "0  The church has cracks in the ceiling.        neutral        neutral  \n",
       "1        The church is filled with song.     entailment     entailment  \n",
       "2    A choir singing at a baseball game.  contradiction  contradiction  \n",
       "3                    The woman is young.        neutral        neutral  \n",
       "4               The woman is very happy.     entailment     entailment  "
      ]
     },
     "execution_count": 17,
     "metadata": {},
     "output_type": "execute_result"
    }
   ],
   "source": [
    "classifier = pipeline(\"text-classification\", model=\"MoritzLaurer/DeBERTa-v3-base-mnli-fever-anli\", tokenizer=\"MoritzLaurer/DeBERTa-v3-base-mnli-fever-anli\")\n",
    "\n",
    "# Create a results dataframe\n",
    "new_model_results = df.copy()\n",
    "\n",
    "# Function to process a batch of examples\n",
    "def process_batch(batch_df):\n",
    "    inputs = []\n",
    "    for _, row in batch_df.iterrows():\n",
    "        # Format sentences in the required format for the model\n",
    "        input_text = f\"{row['sentence1']}</s>{row['sentence2']}\"\n",
    "        inputs.append(input_text)\n",
    "    \n",
    "    # Run the model on the batch\n",
    "    results = classifier(inputs)\n",
    "    \n",
    "    # Extract labels\n",
    "    labels = [item['label'].lower() for item in results]\n",
    "    return labels\n",
    "\n",
    "# Process in batches to avoid memory issues\n",
    "batch_size = 16\n",
    "results = []\n",
    "\n",
    "for i in range(0, len(df), batch_size):\n",
    "    batch_df = df.iloc[i:i+batch_size]\n",
    "    batch_results = process_batch(batch_df)\n",
    "    results.extend(batch_results)\n",
    "\n",
    "# Add results to dataframe\n",
    "new_model_results[\"result\"] = results\n",
    "\n",
    "new_model_results.head()"
   ]
  },
  {
   "cell_type": "code",
   "execution_count": 18,
   "id": "17ae6434",
   "metadata": {},
   "outputs": [
    {
     "name": "stdout",
     "output_type": "stream",
     "text": [
      "Model accuracy: 0.8520\n"
     ]
    }
   ],
   "source": [
    "# Calculate accuracy\n",
    "accuracy = (new_model_results[\"result\"] == new_model_results[\"gold_label\"]).mean()\n",
    "print(f\"Model accuracy: {accuracy:.4f}\")\n",
    "\n",
    "# Save results\n",
    "new_model_results.to_csv(\"roberta_results.csv\")"
   ]
  },
  {
   "cell_type": "code",
   "execution_count": 21,
   "id": "b33d41af",
   "metadata": {},
   "outputs": [
    {
     "name": "stdout",
     "output_type": "stream",
     "text": [
      "Model accuracy: 0.3273\n"
     ]
    }
   ],
   "source": [
    "test_df = pd.read_csv(\"csv/random_nli_model_answers.csv\")\n",
    "accuracy = (test_df[\"result\"] == test_df[\"gold_label\"]).mean()\n",
    "print(f\"Model accuracy: {accuracy:.4f}\")"
   ]
  },
  {
   "cell_type": "code",
   "execution_count": null,
   "id": "d26009f9",
   "metadata": {},
   "outputs": [],
   "source": []
  }
 ],
 "metadata": {
  "kernelspec": {
   "display_name": "venv",
   "language": "python",
   "name": "python3"
  },
  "language_info": {
   "codemirror_mode": {
    "name": "ipython",
    "version": 3
   },
   "file_extension": ".py",
   "mimetype": "text/x-python",
   "name": "python",
   "nbconvert_exporter": "python",
   "pygments_lexer": "ipython3",
   "version": "3.12.6"
  }
 },
 "nbformat": 4,
 "nbformat_minor": 5
}
