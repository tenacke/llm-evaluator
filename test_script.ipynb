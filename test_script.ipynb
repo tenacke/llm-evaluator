{
 "cells": [
  {
   "cell_type": "code",
   "execution_count": 1,
   "metadata": {},
   "outputs": [],
   "source": [
    "import ollama \n",
    "import os\n",
    "import pandas as pd"
   ]
  },
  {
   "cell_type": "code",
   "execution_count": 13,
   "metadata": {},
   "outputs": [],
   "source": [
    "model_name = 'evallm:v2'\n",
    "number_of_repets = 3"
   ]
  },
  {
   "cell_type": "code",
   "execution_count": 9,
   "metadata": {},
   "outputs": [
    {
     "data": {
      "text/html": [
       "<div>\n",
       "<style scoped>\n",
       "    .dataframe tbody tr th:only-of-type {\n",
       "        vertical-align: middle;\n",
       "    }\n",
       "\n",
       "    .dataframe tbody tr th {\n",
       "        vertical-align: top;\n",
       "    }\n",
       "\n",
       "    .dataframe thead th {\n",
       "        text-align: right;\n",
       "    }\n",
       "</style>\n",
       "<table border=\"1\" class=\"dataframe\">\n",
       "  <thead>\n",
       "    <tr style=\"text-align: right;\">\n",
       "      <th></th>\n",
       "      <th>model_id</th>\n",
       "      <th>filepath</th>\n",
       "      <th>decoded</th>\n",
       "      <th>references</th>\n",
       "      <th>expert_coherence_score</th>\n",
       "      <th>turker_coherence_score</th>\n",
       "      <th>expert_relevance_score</th>\n",
       "      <th>turker_relevance_score</th>\n",
       "      <th>expert_consistency_score</th>\n",
       "      <th>turker_consistency_score</th>\n",
       "      <th>expert_fluency_score</th>\n",
       "      <th>turker_fluency_score</th>\n",
       "    </tr>\n",
       "  </thead>\n",
       "  <tbody>\n",
       "    <tr>\n",
       "      <th>0</th>\n",
       "      <td>M22</td>\n",
       "      <td>cnndm/dailymail/stories/b5925c1a02fa9a8f6b1d5a...</td>\n",
       "      <td>A video of a crocodile swimming through a publ...</td>\n",
       "      <td>[\"A local bike shop owner's dog was snatched b...</td>\n",
       "      <td>5.000000</td>\n",
       "      <td>4.0</td>\n",
       "      <td>4.333333</td>\n",
       "      <td>4.0</td>\n",
       "      <td>5.0</td>\n",
       "      <td>4.0</td>\n",
       "      <td>5.0</td>\n",
       "      <td>3.8</td>\n",
       "    </tr>\n",
       "    <tr>\n",
       "      <th>1</th>\n",
       "      <td>M22</td>\n",
       "      <td>cnndm/dailymail/stories/207df192edc1836250b69d...</td>\n",
       "      <td>Finnish researchers compared weight and height...</td>\n",
       "      <td>[\"Researchers claimed antibiotics could be  co...</td>\n",
       "      <td>4.000000</td>\n",
       "      <td>4.0</td>\n",
       "      <td>5.000000</td>\n",
       "      <td>4.2</td>\n",
       "      <td>5.0</td>\n",
       "      <td>4.4</td>\n",
       "      <td>5.0</td>\n",
       "      <td>4.2</td>\n",
       "    </tr>\n",
       "    <tr>\n",
       "      <th>2</th>\n",
       "      <td>M22</td>\n",
       "      <td>cnndm/dailymail/stories/6372eff07fd3d6f578f90d...</td>\n",
       "      <td>Dr Adrian Quarterman , of Dundee University , ...</td>\n",
       "      <td>['Dr Adrian Quarterman has suggested mirrored\\...</td>\n",
       "      <td>3.666667</td>\n",
       "      <td>3.6</td>\n",
       "      <td>4.333333</td>\n",
       "      <td>3.8</td>\n",
       "      <td>5.0</td>\n",
       "      <td>3.8</td>\n",
       "      <td>5.0</td>\n",
       "      <td>3.4</td>\n",
       "    </tr>\n",
       "  </tbody>\n",
       "</table>\n",
       "</div>"
      ],
      "text/plain": [
       "  model_id                                           filepath  \\\n",
       "0      M22  cnndm/dailymail/stories/b5925c1a02fa9a8f6b1d5a...   \n",
       "1      M22  cnndm/dailymail/stories/207df192edc1836250b69d...   \n",
       "2      M22  cnndm/dailymail/stories/6372eff07fd3d6f578f90d...   \n",
       "\n",
       "                                             decoded  \\\n",
       "0  A video of a crocodile swimming through a publ...   \n",
       "1  Finnish researchers compared weight and height...   \n",
       "2  Dr Adrian Quarterman , of Dundee University , ...   \n",
       "\n",
       "                                          references  expert_coherence_score  \\\n",
       "0  [\"A local bike shop owner's dog was snatched b...                5.000000   \n",
       "1  [\"Researchers claimed antibiotics could be  co...                4.000000   \n",
       "2  ['Dr Adrian Quarterman has suggested mirrored\\...                3.666667   \n",
       "\n",
       "   turker_coherence_score  expert_relevance_score  turker_relevance_score  \\\n",
       "0                     4.0                4.333333                     4.0   \n",
       "1                     4.0                5.000000                     4.2   \n",
       "2                     3.6                4.333333                     3.8   \n",
       "\n",
       "   expert_consistency_score  turker_consistency_score  expert_fluency_score  \\\n",
       "0                       5.0                       4.0                   5.0   \n",
       "1                       5.0                       4.4                   5.0   \n",
       "2                       5.0                       3.8                   5.0   \n",
       "\n",
       "   turker_fluency_score  \n",
       "0                   3.8  \n",
       "1                   4.2  \n",
       "2                   3.4  "
      ]
     },
     "execution_count": 9,
     "metadata": {},
     "output_type": "execute_result"
    }
   ],
   "source": [
    "powerful_df = pd.read_csv('csv/powerful_model.csv')\n",
    "powerful_df = powerful_df.drop(columns=['Unnamed: 0'])\n",
    "powerful_df.head(3)"
   ]
  },
  {
   "cell_type": "code",
   "execution_count": 8,
   "metadata": {},
   "outputs": [
    {
     "data": {
      "text/plain": [
       "<ollama._client.Client at 0x116e8d8b0>"
      ]
     },
     "execution_count": 8,
     "metadata": {},
     "output_type": "execute_result"
    }
   ],
   "source": [
    "client = ollama.Client()\n",
    "client"
   ]
  },
  {
   "cell_type": "code",
   "execution_count": 14,
   "metadata": {},
   "outputs": [],
   "source": [
    "deneme_df = powerful_df.head(5)"
   ]
  },
  {
   "cell_type": "code",
   "execution_count": 15,
   "metadata": {},
   "outputs": [
    {
     "data": {
      "text/html": [
       "<div>\n",
       "<style scoped>\n",
       "    .dataframe tbody tr th:only-of-type {\n",
       "        vertical-align: middle;\n",
       "    }\n",
       "\n",
       "    .dataframe tbody tr th {\n",
       "        vertical-align: top;\n",
       "    }\n",
       "\n",
       "    .dataframe thead th {\n",
       "        text-align: right;\n",
       "    }\n",
       "</style>\n",
       "<table border=\"1\" class=\"dataframe\">\n",
       "  <thead>\n",
       "    <tr style=\"text-align: right;\">\n",
       "      <th></th>\n",
       "      <th>index</th>\n",
       "      <th>coherence</th>\n",
       "      <th>fluency</th>\n",
       "      <th>relevance</th>\n",
       "      <th>consistency</th>\n",
       "    </tr>\n",
       "  </thead>\n",
       "  <tbody>\n",
       "  </tbody>\n",
       "</table>\n",
       "</div>"
      ],
      "text/plain": [
       "Empty DataFrame\n",
       "Columns: [index, coherence, fluency, relevance, consistency]\n",
       "Index: []"
      ]
     },
     "execution_count": 15,
     "metadata": {},
     "output_type": "execute_result"
    }
   ],
   "source": [
    "results = pd.DataFrame(columns=['index', 'coherence', 'fluency', 'relevance', 'consistency'])\n",
    "results"
   ]
  },
  {
   "cell_type": "code",
   "execution_count": null,
   "metadata": {},
   "outputs": [
    {
     "name": "stdout",
     "output_type": "stream",
     "text": [
      "Processing summary 0...\n",
      "Repetition 1...\n"
     ]
    },
    {
     "ename": "IndexError",
     "evalue": "list index out of range",
     "output_type": "error",
     "traceback": [
      "\u001b[31m---------------------------------------------------------------------------\u001b[39m",
      "\u001b[31mIndexError\u001b[39m                                Traceback (most recent call last)",
      "\u001b[36mCell\u001b[39m\u001b[36m \u001b[39m\u001b[32mIn[17]\u001b[39m\u001b[32m, line 21\u001b[39m\n\u001b[32m     19\u001b[39m coherence = response_str.split(\u001b[33m'\u001b[39m\u001b[33mCoherence: \u001b[39m\u001b[33m'\u001b[39m)[\u001b[32m1\u001b[39m].split(\u001b[33m'\u001b[39m\u001b[38;5;130;01m\\n\u001b[39;00m\u001b[33m'\u001b[39m)[\u001b[32m0\u001b[39m]\n\u001b[32m     20\u001b[39m fluency = response_str.split(\u001b[33m'\u001b[39m\u001b[33mFluency: \u001b[39m\u001b[33m'\u001b[39m)[\u001b[32m1\u001b[39m].split(\u001b[33m'\u001b[39m\u001b[38;5;130;01m\\n\u001b[39;00m\u001b[33m'\u001b[39m)[\u001b[32m0\u001b[39m]\n\u001b[32m---> \u001b[39m\u001b[32m21\u001b[39m relevance = \u001b[43mresponse_str\u001b[49m\u001b[43m.\u001b[49m\u001b[43msplit\u001b[49m\u001b[43m(\u001b[49m\u001b[33;43m'\u001b[39;49m\u001b[33;43mRelevance:\u001b[39;49m\u001b[38;5;130;43;01m\\n\u001b[39;49;00m\u001b[33;43m'\u001b[39;49m\u001b[43m)\u001b[49m\u001b[43m[\u001b[49m\u001b[32;43m1\u001b[39;49m\u001b[43m]\u001b[49m.split(\u001b[33m'\u001b[39m\u001b[38;5;130;01m\\n\u001b[39;00m\u001b[33m'\u001b[39m)[\u001b[32m0\u001b[39m]\n\u001b[32m     22\u001b[39m consistency = response_str.split(\u001b[33m'\u001b[39m\u001b[33mConsistency: \u001b[39m\u001b[33m'\u001b[39m)[\u001b[32m1\u001b[39m].split(\u001b[33m'\u001b[39m\u001b[38;5;130;01m\\n\u001b[39;00m\u001b[33m'\u001b[39m)[\u001b[32m0\u001b[39m]\n\u001b[32m     24\u001b[39m result.append({\n\u001b[32m     25\u001b[39m     \u001b[33m'\u001b[39m\u001b[33mcoherence\u001b[39m\u001b[33m'\u001b[39m: coherence,\n\u001b[32m     26\u001b[39m     \u001b[33m'\u001b[39m\u001b[33mfluency\u001b[39m\u001b[33m'\u001b[39m: fluency,\n\u001b[32m     27\u001b[39m     \u001b[33m'\u001b[39m\u001b[33mrelevance\u001b[39m\u001b[33m'\u001b[39m: relevance,\n\u001b[32m     28\u001b[39m     \u001b[33m'\u001b[39m\u001b[33mconsistency\u001b[39m\u001b[33m'\u001b[39m: consistency\n\u001b[32m     29\u001b[39m })\n",
      "\u001b[31mIndexError\u001b[39m: list index out of range"
     ]
    }
   ],
   "source": [
    "for row in deneme_df.iterrows():\n",
    "    index, data = row\n",
    "    file = data['filepath']\n",
    "    summary = data['decoded']\n",
    "\n",
    "    print(f'Processing summary {index}...')\n",
    "\n",
    "    with open(os.path.join('datasets', file), 'r') as f:\n",
    "        text = f.read()\n",
    "\n",
    "    query = 'Text:\\n' + text + 'Summary:\\n' + summary\n",
    "\n",
    "    result = []\n",
    "    for i in range(number_of_repets):\n",
    "        print(f'Repetition {i+1}...')\n",
    "        response = client.generate(model_name, query)\n",
    "        response_str = response.response\n",
    "\n",
    "        coherence = response_str.split('Coherence: ')[1][0]\n",
    "        fluency = response_str.split('Fluency: ')[1][0]\n",
    "        relevance = response_str.split('Relevance: ')[1][0]\n",
    "        consistency = response_str.split('Consistency: ')[1][0]\n",
    "\n",
    "        result.append({\n",
    "            'coherence': coherence,\n",
    "            'fluency': fluency,\n",
    "            'relevance': relevance,\n",
    "            'consistency': consistency\n",
    "        })\n",
    "    print('Repets are done')\n",
    "    results_repets = pd.DataFrame(result)\n",
    "    results_repets = results_repets.astype(float)\n",
    "    results_repets = results_repets.mean()\n",
    "    results_repets['index'] = index\n",
    "\n",
    "    results = results.append(results_repets, ignore_index=True)"
   ]
  },
  {
   "cell_type": "code",
   "execution_count": null,
   "metadata": {},
   "outputs": [],
   "source": []
  }
 ],
 "metadata": {
  "kernelspec": {
   "display_name": "venv",
   "language": "python",
   "name": "python3"
  },
  "language_info": {
   "codemirror_mode": {
    "name": "ipython",
    "version": 3
   },
   "file_extension": ".py",
   "mimetype": "text/x-python",
   "name": "python",
   "nbconvert_exporter": "python",
   "pygments_lexer": "ipython3",
   "version": "3.12.6"
  }
 },
 "nbformat": 4,
 "nbformat_minor": 2
}
