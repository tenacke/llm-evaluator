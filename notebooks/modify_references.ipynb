{
 "cells": [
  {
   "cell_type": "code",
   "execution_count": 1,
   "metadata": {},
   "outputs": [],
   "source": [
    "import os\n",
    "import pandas as pd"
   ]
  },
  {
   "cell_type": "code",
   "execution_count": 12,
   "metadata": {},
   "outputs": [
    {
     "data": {
      "application/vnd.microsoft.datawrangler.viewer.v0+json": {
       "columns": [
        {
         "name": "index",
         "rawType": "int64",
         "type": "integer"
        },
        {
         "name": "Unnamed: 0",
         "rawType": "int64",
         "type": "integer"
        },
        {
         "name": "model_id",
         "rawType": "object",
         "type": "string"
        },
        {
         "name": "filepath",
         "rawType": "object",
         "type": "string"
        },
        {
         "name": "decoded",
         "rawType": "object",
         "type": "string"
        },
        {
         "name": "references",
         "rawType": "object",
         "type": "string"
        },
        {
         "name": "expert_coherence_score",
         "rawType": "float64",
         "type": "float"
        },
        {
         "name": "turker_coherence_score",
         "rawType": "float64",
         "type": "float"
        },
        {
         "name": "expert_relevance_score",
         "rawType": "float64",
         "type": "float"
        },
        {
         "name": "turker_relevance_score",
         "rawType": "float64",
         "type": "float"
        },
        {
         "name": "expert_consistency_score",
         "rawType": "float64",
         "type": "float"
        },
        {
         "name": "turker_consistency_score",
         "rawType": "float64",
         "type": "float"
        },
        {
         "name": "expert_fluency_score",
         "rawType": "float64",
         "type": "float"
        },
        {
         "name": "turker_fluency_score",
         "rawType": "float64",
         "type": "float"
        }
       ],
       "conversionMethod": "pd.DataFrame",
       "ref": "e5999636-bcc6-40d3-a007-3f72a0efe719",
       "rows": [
        [
         "0",
         "1100",
         "M22",
         "cnndm/dailymail/stories/b5925c1a02fa9a8f6b1d5ad764c19a732deac0df.story",
         "A video of a crocodile swimming through a public marina with a dead pet dog locked in between its jaws has been viewed more than half a million times online . The clip shows a large croc calmly moving through the marina in the tourist hotspot of Puerto Vallarta , in Mexico . New Zealander Tim Weston was on holiday with his wife when the attack happened .",
         "[\"A local bike shop owner's dog was snatched by a crocodile. The crocodile was swimming through Puerto Vallarta marina, in Mexico. New Zealander Tim Weston was on holiday and saw the bizarre sight. A video of the dog in the croc's jaws has been viewed half a million times.\", 'A dog was being attacked by a large crocodile while bystanders watched from afar. The animal latched onto the dog for hours and someone made a video posted online', 'A video of a crocodile holding a dead pet dog in its jaw has gone viral.  The dead pet was filmed by a tourist from New Zealand.  Crocodiles are a common occurance on the Puerto Vallarta Mexican Beach where this was filmed.  Social media users are expressing disdain at the event.', 'A viral video of a crocodile with a dead dog in its mouth has been watched over 500,000 times. The dog belonged to the local bike shop owner.', 'A video of a crocodile swimming in a marina holding a dead dog in its jaws has gone viral online. New Zealand tourist Tim Weston captured the video of the crocodile and the dog in Puerto Vallarta, Mexico.', 'A crocodile holds in its mouth a body of a dead dog calmly in Puerto Vallarta, Mexico.', 'The croc was spotted in Puerto Vallarta. The attacked dog belonged to the owner of a local bike shop. The attack happened in Mexico.', 'A crocodile attacked and killed a dog in the tourist hot spot of Puerto Vallarta, Mexico. The dog belonged to a local bicycle shop owner and the event was recorded and posted to social media.', 'Puerto Vallarta is the tourist hotpot where the crocodile was spotted in. The pet dog previously belong to the local bike shop owner. The crocodile video was recorded in Mexico.', 'There was an alligator seen in a spot where there is usually water and boats. A canine was unfortunately consumed. This occurred in Mexico, and was viewed on camera.', 'A crocodile was spotted in a public marina in Puerto Vallarta, a tourist hotspot in Mexico. The crocodile had a dead dog in its jaw. The dog originally belonged to a local bike shop owner. The video was taken by a New Zealander on vacation in Mexico.']",
         "5.0",
         "4.0",
         "4.333333333333333",
         "4.0",
         "5.0",
         "4.0",
         "5.0",
         "3.8"
        ],
        [
         "1",
         "1101",
         "M22",
         "cnndm/dailymail/stories/207df192edc1836250b69d1bc5b9e6a38206eb78.story",
         "Finnish researchers compared weight and height of more than 12,000 healthy two year old with records on antibiotic prescription . By two years-old , one in five boys and one in ten girls was overweight or obese . Repeated prescriptions before the age of two also raised odds of being a fat toddler .",
         "[\"Researchers claimed antibiotics could be  contributing to 'obesity\\xa0epidemic.' Their large-scale study was published in the respected Pediatrics journal. It found one third of 10 to 11-year-olds in England are overweight or obese. Children who took antibiotics as babies were more likely to be overweight.\", 'Why are there so many fat kids? Research now indicates that the over use of certain anti-biotics may be the reason why.', 'A new study has found that antibiotics given to babies may contribute to obesity. The study did not determine the cause of this phenomenon. It might be that the antibiotics are killing bacteria that help to break down food.', 'A study suggests that kids given antibiotics early are more likely to be fat as toddlers. These drugs have been thought of as contributing to the obesity epidemic. The government has warned about superbug problems in the future.', 'A recent study finds that early antibiotic use can lead to obesity. Of the 12,000 two-year children studied, those who took antibiotics in the first six-months of life had a higher likelihood of being overweight.', \"4-5 years old in England are overweight or obese leading to fears that today's generation will be the first to die at an earlier age than their parents obesity babies given antibiotics in the first six months of life are more likely to be fat as toddlers a large scale study has found the finish research compared the weight and height of more than 12,000 healthy two year old with records on antibiotics prescription.\", 'Babies who are given antibiotics at six months of age are more likely to be overweight as toddlers. A third of children who are ten to eleven years of age are overweight. Boys have more probability of being obese due to antibiotics.', 'A large scale study has shown that babies given antibiotics within their first six months are likely to be overweight toddlers. A third of all 10-11 year olds qualify as overweight and obsese, leading to concerns about their future health. Males seem more prone to gaining weight after antibiotics.', 'A study has shown that babies who receive antibiotics before the age of six months are more likely to be overweight as toddlers, with boys being more prone to this antibiotic obesity. This may be one factor contributing to high childhood obesity, as one third of 10-11 year olds are overweight.', \"When it pertains to the obesity problem in children, it can be traced back to the use of antibiotics when they were in the first six months of life. There are studies that suggest that giving babies antibiotics during that period in their lives, led them to more likely be fat toddlers. Fat toddlers then lead to children having weight issues as they get older. One third of 10-11 year olds in England are overweight or obese. It doesn't stop there, as  one fifth of 4-5 year olds are facing the same problems. The issues seems to be more of a concern for boys than girls. Not by much though. When compared to each other, twenty percent of boy sand ten percent of girls are obese or overweight by the age of two.\", \"Research has shown that babies that receive antibiotics during the first six months of their lives are more likely to be overweight later in their lives.  The concern of obesity has been heightened in recent years as it's been found that one third of children between the ages of ten and eleven are overweight or obese.  In particular, adolescent males appear to be more prone to being overweight following exposure to antibiotics early in life.\"]",
         "4.0",
         "4.0",
         "5.0",
         "4.2",
         "5.0",
         "4.4",
         "5.0",
         "4.2"
        ],
        [
         "2",
         "1102",
         "M22",
         "cnndm/dailymail/stories/6372eff07fd3d6f578f90d6115e01747edccc095.story",
         "Dr Adrian Quarterman , of Dundee University , is working on a laser which will convert sun beams into energy . satellites will orbit the earth , covered in mirrors to help it harvest the sunlight and convert it into laser light . If it works , it could mean solar power could even become viable in Scotland .",
         "['Dr Adrian Quarterman has suggested mirrored\\xa0satellites\\xa0to collect sunlight. The beams can then be converted into laser light and sent down to earth. The\\xa0physicist\\xa0 believes it could even make solar power feasible in Scotland. But he admits you might need to worry about who is in control of them.', \"Space lasers are becoming a reality, they are not only used in science fiction any longer.  However, they are not being used as weapons, like in the movies, but to benefit society.  A Scottish scientist is researching how to use space lasers to use solar power in areas that don't get much sun naturally.  Researchers in Tokyo are looking into how to use lasers to shoot down pieces of debris in the earth's orbit.  The laser would work by pushing space junk into earth's orbit, where it would burn up.\", 'Space lasers are hoped to be a source of power for homes in the future. There is research being conducted on how space lasers will be of benefit.', 'A Scottish scientist has ideas about using space lasers to hear homes sometime in the future. The physicist, Dr. Adrian Quarterman, said that sunbeams-turned-energy can be directed at solar panels for a boost in the energy they receive.', \"A college professor is hoping to create a laser that can use the sun as energy. They won't hurt any animals and is not strong enough to be used as a weapon.\", 'A lot of people are talking about space lasers, and how they can be used in the future and what they could do to make it possible to be properly introduced.', 'Space lasers are famous for blowing people and planets. Dr. Adrian Quarterman says there is a possibility that space lasers can power homes. The targets in size are less than a centimetre.', 'Most people think of space lasers as blowing things up in science fiction stories. Scottish scientist Dr. Adrian Quarterman thinks lasers could also be used to heat homes by converting sun beams into energy. These proposed lasers would not be powerful to be weapons of science fiction lore. In fact they will target areas less than a centimeter big.', \"Space lasers are used in movies at present. The writer suggests that the sun's reflection in the space lasers could be used effectively, for heat or destroying space junk.  The targets are small, less than a centimetre in size.\", 'Space lasers are best known for blowing people and planets up. That space lasers could be used to power homes in the future. Targets will be less than a centimetre in size.', 'Space lasers a commonly depicted as weapons. A scottish scientist named dr adrian quarterman hopes they can heat future homes. Researchers in toyko want lasers on the ISS to shoot space junk. They would use the telescope onboard to shoot targets as far as 62 miles.']",
         "3.6666666666666665",
         "3.6",
         "4.333333333333333",
         "3.8",
         "5.0",
         "3.8",
         "5.0",
         "3.4"
        ],
        [
         "3",
         "1103",
         "M22",
         "cnndm/dailymail/stories/9b5a04b9879fe716a2dcd66dd331f99534603c16.story",
         "Federal MP Bob Katter released a bizarre statement on his party 's website . He accused the Queensland Government of thinking embattled MP Billy Gordon would quit after he was accused of domestic violence . Mr Katter , who is of Lebanese descent , said he sympathised with Mr Gordon 's position . The statement has sparked criticism on social media .",
         "['Mr Gordon was forced to quit Labor after being accused of domestic violence. Mr Katter accused the Queensland Government of assuming Mr Gordon would quit from the allegations. Mr Katter said he had been personally subjected to racist attitudes from both major parties in the past.', 'A government official had to resign after being domestic violence charges were brought forward. Many are upset by this decision and believe the government is in the wrong.', 'MP Bob Katter has been accused of domestic violence and has admitted he has had a criminal past.', 'A person in a government party was accused of violence against a family member. The party members threw insults at each other. They are trying to get attention and turn people against their opponent.', 'A spokesman was accused of being racist and he had to make a statement that said otherwise.', 'Bob Katter has been accused of racism after his comments about Billy Gordon. Gordon was forced to quit the Labor Party because of a domestic violence scandal. Katter has since defended his statements.', \"Billy Gordon resigned from the Queensland's labor party after being forced out. He has sparked criticism on social media for calling Tony Windsor and Rob Oakeshott puppets of Queensland's government.\", 'The Queensland Government is said to have believed that Billy Gordon was a puppet. The accusation that Billy Gordon is a puppet has been criticized on social media. Gordon quit the Queensland Labor Party after being forced out.', 'Following seemingly insensitive statements by Bob Katter accusing the Queensland Government of  holding the belief that Billy Gordon is a \"little black puppet\" who they could manipulate, there was outrage on social media because of the racial nature of the comments.  These statements were tied to the fact that Gordon was recently forced to quit the Queensland Labor Party.', 'After being accused of domestic violence, MP Billy Gordon was made to quit the Queensland Labor Party. Fellow MP Bob Katter was accused of racial insensitivity after referring to Gordon as a little black puppet, though he has also called MPs Tony Windsor and Rob Oakeshott puppets of the government.', 'MP Billy Gordon is believed to be a black puppet. A statement that was made has sparked criticism on social media. Billy Gordon was forced to leave the Queensland labor party.']",
         "5.0",
         "3.4",
         "5.0",
         "3.4",
         "5.0",
         "3.8",
         "5.0",
         "4.0"
        ],
        [
         "4",
         "1104",
         "M22",
         "cnndm/dailymail/stories/31114653cd606fd3f4b1035f98dedd71f8282cd2.story",
         "Wales ' crunch Euro 2016 qualifier with Belgium this summer has been declared a 33,000 sell-out . The top two sides in Group B meet at the Cardiff City Stadium on June 12 . Wales are in their best position to qualify for a major tournament since the 1958 World Cup finals in Sweden .",
         "[\"Wales' Euro 2016 qualifier with Belgium has been declared a sell-out. Gareth Bale and Co currently top the Group B table on goal difference. Belgium and Wales both on 11 points ahead of clash.\", 'The Wales Crunch Euro 2016 qualifier is sold out. The Wales team prefers to play at the Cardiff Stadium over the Millennium Stadium. This is echoed by Gareth Bale.', 'The top two sides from group b will meet at the Cardiff City stadium where it will be a 33,000 sellout.', \"The 2016 Wales' Crunch qualifier against Belgium has sold out all 33,000 seats at Cardiff Stadium. Both sides have 11 point through 5 games.\", 'Wales will play their Euro 2016 qualifier match against Belgium in front of a sold out Cardiff City Stadium this summer. After a recent victory, Wales appears poised for success and strives to make it far in the tournament. Though a larger stadium was considered for the match, it will be played in the smaller stadium, which is more intimate and preferred by the players.', 'A popular team has entered the euro qualifier and the event has already sold out tickets. Some teams would prefer the event to be moved but decisions have not been changed.', 'With 33000 tickets sold, the 2016 Euro Qualifier has been called a sell out. The game will feature two teams who have not met since the 1958 World Cup Finals held in Sweden. For Gareth Bale and teammates, they will prepare to play in Millennium Stadium for this important match.', 'The 1958 World Cup Finals took place in the country of Sweden The stadium in which they played in the qualifier was Cardiff City Stadium There were 33,000 tickets bought in order to declare it a sell-out', 'The euro 2016 qualifier sold thirty three thousand tickets leading to it being not longer available to go. The location for this event changed from the 2012 qualifier at Millennium stadium for a few reasons. Wales is very excited to play since they are doing their best since playing the 1958 world cup in sweden.', 'The 1958 World Cup took place in Sweden. The Euro 2012 qualifier was played at Millennium Stadium. 33 thousand tickets were sold to sell out the Euro 2016 qualifier.', \"Wales is in the best shape they've been in since the World Cup finals of 1958 which was held in Sweden. 33,000 tickets have been sold for the Euro 2016 qualifier of which Wales is a part.  They have not played in Millenium stadium since 2011. That match was a euro qualifier for 2012 with England.\"]",
         "4.333333333333333",
         "3.4",
         "4.333333333333333",
         "3.4",
         "5.0",
         "3.6",
         "5.0",
         "3.0"
        ]
       ],
       "shape": {
        "columns": 13,
        "rows": 5
       }
      },
      "text/html": [
       "<div>\n",
       "<style scoped>\n",
       "    .dataframe tbody tr th:only-of-type {\n",
       "        vertical-align: middle;\n",
       "    }\n",
       "\n",
       "    .dataframe tbody tr th {\n",
       "        vertical-align: top;\n",
       "    }\n",
       "\n",
       "    .dataframe thead th {\n",
       "        text-align: right;\n",
       "    }\n",
       "</style>\n",
       "<table border=\"1\" class=\"dataframe\">\n",
       "  <thead>\n",
       "    <tr style=\"text-align: right;\">\n",
       "      <th></th>\n",
       "      <th>Unnamed: 0</th>\n",
       "      <th>model_id</th>\n",
       "      <th>filepath</th>\n",
       "      <th>decoded</th>\n",
       "      <th>references</th>\n",
       "      <th>expert_coherence_score</th>\n",
       "      <th>turker_coherence_score</th>\n",
       "      <th>expert_relevance_score</th>\n",
       "      <th>turker_relevance_score</th>\n",
       "      <th>expert_consistency_score</th>\n",
       "      <th>turker_consistency_score</th>\n",
       "      <th>expert_fluency_score</th>\n",
       "      <th>turker_fluency_score</th>\n",
       "    </tr>\n",
       "  </thead>\n",
       "  <tbody>\n",
       "    <tr>\n",
       "      <th>0</th>\n",
       "      <td>1100</td>\n",
       "      <td>M22</td>\n",
       "      <td>cnndm/dailymail/stories/b5925c1a02fa9a8f6b1d5a...</td>\n",
       "      <td>A video of a crocodile swimming through a publ...</td>\n",
       "      <td>[\"A local bike shop owner's dog was snatched b...</td>\n",
       "      <td>5.000000</td>\n",
       "      <td>4.0</td>\n",
       "      <td>4.333333</td>\n",
       "      <td>4.0</td>\n",
       "      <td>5.0</td>\n",
       "      <td>4.0</td>\n",
       "      <td>5.0</td>\n",
       "      <td>3.8</td>\n",
       "    </tr>\n",
       "    <tr>\n",
       "      <th>1</th>\n",
       "      <td>1101</td>\n",
       "      <td>M22</td>\n",
       "      <td>cnndm/dailymail/stories/207df192edc1836250b69d...</td>\n",
       "      <td>Finnish researchers compared weight and height...</td>\n",
       "      <td>[\"Researchers claimed antibiotics could be  co...</td>\n",
       "      <td>4.000000</td>\n",
       "      <td>4.0</td>\n",
       "      <td>5.000000</td>\n",
       "      <td>4.2</td>\n",
       "      <td>5.0</td>\n",
       "      <td>4.4</td>\n",
       "      <td>5.0</td>\n",
       "      <td>4.2</td>\n",
       "    </tr>\n",
       "    <tr>\n",
       "      <th>2</th>\n",
       "      <td>1102</td>\n",
       "      <td>M22</td>\n",
       "      <td>cnndm/dailymail/stories/6372eff07fd3d6f578f90d...</td>\n",
       "      <td>Dr Adrian Quarterman , of Dundee University , ...</td>\n",
       "      <td>['Dr Adrian Quarterman has suggested mirrored\\...</td>\n",
       "      <td>3.666667</td>\n",
       "      <td>3.6</td>\n",
       "      <td>4.333333</td>\n",
       "      <td>3.8</td>\n",
       "      <td>5.0</td>\n",
       "      <td>3.8</td>\n",
       "      <td>5.0</td>\n",
       "      <td>3.4</td>\n",
       "    </tr>\n",
       "    <tr>\n",
       "      <th>3</th>\n",
       "      <td>1103</td>\n",
       "      <td>M22</td>\n",
       "      <td>cnndm/dailymail/stories/9b5a04b9879fe716a2dcd6...</td>\n",
       "      <td>Federal MP Bob Katter released a bizarre state...</td>\n",
       "      <td>['Mr Gordon was forced to quit Labor after bei...</td>\n",
       "      <td>5.000000</td>\n",
       "      <td>3.4</td>\n",
       "      <td>5.000000</td>\n",
       "      <td>3.4</td>\n",
       "      <td>5.0</td>\n",
       "      <td>3.8</td>\n",
       "      <td>5.0</td>\n",
       "      <td>4.0</td>\n",
       "    </tr>\n",
       "    <tr>\n",
       "      <th>4</th>\n",
       "      <td>1104</td>\n",
       "      <td>M22</td>\n",
       "      <td>cnndm/dailymail/stories/31114653cd606fd3f4b103...</td>\n",
       "      <td>Wales ' crunch Euro 2016 qualifier with Belgiu...</td>\n",
       "      <td>[\"Wales' Euro 2016 qualifier with Belgium has ...</td>\n",
       "      <td>4.333333</td>\n",
       "      <td>3.4</td>\n",
       "      <td>4.333333</td>\n",
       "      <td>3.4</td>\n",
       "      <td>5.0</td>\n",
       "      <td>3.6</td>\n",
       "      <td>5.0</td>\n",
       "      <td>3.0</td>\n",
       "    </tr>\n",
       "  </tbody>\n",
       "</table>\n",
       "</div>"
      ],
      "text/plain": [
       "   Unnamed: 0 model_id                                           filepath  \\\n",
       "0        1100      M22  cnndm/dailymail/stories/b5925c1a02fa9a8f6b1d5a...   \n",
       "1        1101      M22  cnndm/dailymail/stories/207df192edc1836250b69d...   \n",
       "2        1102      M22  cnndm/dailymail/stories/6372eff07fd3d6f578f90d...   \n",
       "3        1103      M22  cnndm/dailymail/stories/9b5a04b9879fe716a2dcd6...   \n",
       "4        1104      M22  cnndm/dailymail/stories/31114653cd606fd3f4b103...   \n",
       "\n",
       "                                             decoded  \\\n",
       "0  A video of a crocodile swimming through a publ...   \n",
       "1  Finnish researchers compared weight and height...   \n",
       "2  Dr Adrian Quarterman , of Dundee University , ...   \n",
       "3  Federal MP Bob Katter released a bizarre state...   \n",
       "4  Wales ' crunch Euro 2016 qualifier with Belgiu...   \n",
       "\n",
       "                                          references  expert_coherence_score  \\\n",
       "0  [\"A local bike shop owner's dog was snatched b...                5.000000   \n",
       "1  [\"Researchers claimed antibiotics could be  co...                4.000000   \n",
       "2  ['Dr Adrian Quarterman has suggested mirrored\\...                3.666667   \n",
       "3  ['Mr Gordon was forced to quit Labor after bei...                5.000000   \n",
       "4  [\"Wales' Euro 2016 qualifier with Belgium has ...                4.333333   \n",
       "\n",
       "   turker_coherence_score  expert_relevance_score  turker_relevance_score  \\\n",
       "0                     4.0                4.333333                     4.0   \n",
       "1                     4.0                5.000000                     4.2   \n",
       "2                     3.6                4.333333                     3.8   \n",
       "3                     3.4                5.000000                     3.4   \n",
       "4                     3.4                4.333333                     3.4   \n",
       "\n",
       "   expert_consistency_score  turker_consistency_score  expert_fluency_score  \\\n",
       "0                       5.0                       4.0                   5.0   \n",
       "1                       5.0                       4.4                   5.0   \n",
       "2                       5.0                       3.8                   5.0   \n",
       "3                       5.0                       3.8                   5.0   \n",
       "4                       5.0                       3.6                   5.0   \n",
       "\n",
       "   turker_fluency_score  \n",
       "0                   3.8  \n",
       "1                   4.2  \n",
       "2                   3.4  \n",
       "3                   4.0  \n",
       "4                   3.0  "
      ]
     },
     "execution_count": 12,
     "metadata": {},
     "output_type": "execute_result"
    }
   ],
   "source": [
    "file_name = 'powerful_model.csv'\n",
    "df = pd.read_csv(os.path.join(os.getcwd(), '..', 'csv', file_name))\n",
    "df.head()"
   ]
  },
  {
   "cell_type": "code",
   "execution_count": 13,
   "metadata": {},
   "outputs": [
    {
     "data": {
      "text/plain": [
       "0     A local bike shop owners dog was snatched by a...\n",
       "1     Researchers claimed antibiotics could be  cont...\n",
       "2     Dr Adrian Quarterman has suggested mirrored sa...\n",
       "3     Mr Gordon was forced to quit Labor after being...\n",
       "4     Wales Euro 2016 qualifier with Belgium has bee...\n",
       "                            ...                        \n",
       "95    Naoki Ogane says that Chelsea have made an off...\n",
       "96    Curacao have advanced to the second qualifying...\n",
       "97    The woman, named Dawn, was appearing on ITVs T...\n",
       "98    Stephen Munden, 54, has absconded from hospita...\n",
       "99    Citys players are on incentivised contracts be...\n",
       "Name: reference, Length: 100, dtype: object"
      ]
     },
     "execution_count": 13,
     "metadata": {},
     "output_type": "execute_result"
    }
   ],
   "source": [
    "# datatype of references is an array and get only the first 3 elements if len > 3 and convert into concatenated string\n",
    "df['reference'] = df['references'].apply(lambda x: \",\".join(eval(x)[:3]) if len(eval(x)) > 3 else \",\".join(eval(x)))\n",
    "df['reference'] = df['reference'].apply(lambda x: x.replace(\"'\", \"\").replace(\"[\", \"\").replace(\"]\", \"\"))\n",
    "df['reference']"
   ]
  },
  {
   "cell_type": "code",
   "execution_count": 14,
   "metadata": {},
   "outputs": [],
   "source": [
    "df.drop(columns=['references'], inplace=True)\n",
    "\n",
    "df.to_csv(os.path.join(os.getcwd(), '..', 'csv', file_name), index=False)"
   ]
  },
  {
   "cell_type": "code",
   "execution_count": null,
   "metadata": {},
   "outputs": [],
   "source": []
  }
 ],
 "metadata": {
  "kernelspec": {
   "display_name": "venv",
   "language": "python",
   "name": "python3"
  },
  "language_info": {
   "codemirror_mode": {
    "name": "ipython",
    "version": 3
   },
   "file_extension": ".py",
   "mimetype": "text/x-python",
   "name": "python",
   "nbconvert_exporter": "python",
   "pygments_lexer": "ipython3",
   "version": "3.12.6"
  }
 },
 "nbformat": 4,
 "nbformat_minor": 2
}
