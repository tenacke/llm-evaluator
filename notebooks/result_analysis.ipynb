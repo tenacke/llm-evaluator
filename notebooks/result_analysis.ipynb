{
 "cells": [
  {
   "cell_type": "code",
   "execution_count": 1,
   "metadata": {},
   "outputs": [],
   "source": [
    "import os\n",
    "import pandas as pd\n",
    "import numpy as np\n",
    "import matplotlib.pyplot as plt"
   ]
  },
  {
   "cell_type": "code",
   "execution_count": null,
   "metadata": {},
   "outputs": [
    {
     "data": {
      "text/plain": [
       "'/Users/emre/Projects/EvalLM/notebooks'"
      ]
     },
     "execution_count": 8,
     "metadata": {},
     "output_type": "execute_result"
    }
   ],
   "source": [
    "# current directory\n"
   ]
  },
  {
   "cell_type": "code",
   "execution_count": 14,
   "metadata": {},
   "outputs": [
    {
     "data": {
      "application/vnd.microsoft.datawrangler.viewer.v0+json": {
       "columns": [
        {
         "name": "index",
         "rawType": "int64",
         "type": "integer"
        },
        {
         "name": "Unnamed: 0",
         "rawType": "object",
         "type": "string"
        },
        {
         "name": "coherence",
         "rawType": "float64",
         "type": "float"
        },
        {
         "name": "fluency",
         "rawType": "float64",
         "type": "float"
        },
        {
         "name": "relevance",
         "rawType": "float64",
         "type": "float"
        },
        {
         "name": "consistency",
         "rawType": "float64",
         "type": "float"
        },
        {
         "name": "0",
         "rawType": "float64",
         "type": "float"
        },
        {
         "name": "1",
         "rawType": "float64",
         "type": "float"
        },
        {
         "name": "2",
         "rawType": "float64",
         "type": "float"
        },
        {
         "name": "3",
         "rawType": "float64",
         "type": "float"
        },
        {
         "name": "4",
         "rawType": "float64",
         "type": "float"
        },
        {
         "name": "5",
         "rawType": "float64",
         "type": "float"
        },
        {
         "name": "6",
         "rawType": "float64",
         "type": "float"
        },
        {
         "name": "7",
         "rawType": "float64",
         "type": "float"
        },
        {
         "name": "8",
         "rawType": "float64",
         "type": "float"
        },
        {
         "name": "9",
         "rawType": "float64",
         "type": "float"
        },
        {
         "name": "10",
         "rawType": "float64",
         "type": "float"
        },
        {
         "name": "11",
         "rawType": "float64",
         "type": "float"
        },
        {
         "name": "12",
         "rawType": "float64",
         "type": "float"
        },
        {
         "name": "13",
         "rawType": "float64",
         "type": "float"
        },
        {
         "name": "14",
         "rawType": "float64",
         "type": "float"
        },
        {
         "name": "15",
         "rawType": "float64",
         "type": "float"
        },
        {
         "name": "16",
         "rawType": "float64",
         "type": "float"
        },
        {
         "name": "17",
         "rawType": "float64",
         "type": "float"
        },
        {
         "name": "18",
         "rawType": "float64",
         "type": "float"
        },
        {
         "name": "19",
         "rawType": "float64",
         "type": "float"
        },
        {
         "name": "20",
         "rawType": "float64",
         "type": "float"
        },
        {
         "name": "21",
         "rawType": "float64",
         "type": "float"
        },
        {
         "name": "22",
         "rawType": "float64",
         "type": "float"
        },
        {
         "name": "23",
         "rawType": "float64",
         "type": "float"
        },
        {
         "name": "24",
         "rawType": "float64",
         "type": "float"
        },
        {
         "name": "25",
         "rawType": "float64",
         "type": "float"
        },
        {
         "name": "26",
         "rawType": "float64",
         "type": "float"
        },
        {
         "name": "27",
         "rawType": "float64",
         "type": "float"
        },
        {
         "name": "28",
         "rawType": "float64",
         "type": "float"
        },
        {
         "name": "29",
         "rawType": "float64",
         "type": "float"
        },
        {
         "name": "30",
         "rawType": "float64",
         "type": "float"
        },
        {
         "name": "31",
         "rawType": "float64",
         "type": "float"
        },
        {
         "name": "32",
         "rawType": "float64",
         "type": "float"
        },
        {
         "name": "33",
         "rawType": "float64",
         "type": "float"
        },
        {
         "name": "34",
         "rawType": "float64",
         "type": "float"
        },
        {
         "name": "35",
         "rawType": "float64",
         "type": "float"
        },
        {
         "name": "36",
         "rawType": "float64",
         "type": "float"
        },
        {
         "name": "37",
         "rawType": "float64",
         "type": "float"
        },
        {
         "name": "38",
         "rawType": "float64",
         "type": "float"
        },
        {
         "name": "39",
         "rawType": "float64",
         "type": "float"
        },
        {
         "name": "40",
         "rawType": "float64",
         "type": "float"
        },
        {
         "name": "41",
         "rawType": "float64",
         "type": "float"
        },
        {
         "name": "42",
         "rawType": "float64",
         "type": "float"
        },
        {
         "name": "43",
         "rawType": "float64",
         "type": "float"
        },
        {
         "name": "44",
         "rawType": "float64",
         "type": "float"
        },
        {
         "name": "45",
         "rawType": "float64",
         "type": "float"
        },
        {
         "name": "46",
         "rawType": "float64",
         "type": "float"
        },
        {
         "name": "47",
         "rawType": "float64",
         "type": "float"
        },
        {
         "name": "48",
         "rawType": "float64",
         "type": "float"
        },
        {
         "name": "49",
         "rawType": "float64",
         "type": "float"
        },
        {
         "name": "50",
         "rawType": "float64",
         "type": "float"
        },
        {
         "name": "51",
         "rawType": "float64",
         "type": "float"
        },
        {
         "name": "52",
         "rawType": "float64",
         "type": "float"
        },
        {
         "name": "53",
         "rawType": "float64",
         "type": "float"
        },
        {
         "name": "54",
         "rawType": "float64",
         "type": "float"
        },
        {
         "name": "55",
         "rawType": "float64",
         "type": "float"
        },
        {
         "name": "56",
         "rawType": "float64",
         "type": "float"
        },
        {
         "name": "57",
         "rawType": "float64",
         "type": "float"
        },
        {
         "name": "58",
         "rawType": "float64",
         "type": "float"
        },
        {
         "name": "59",
         "rawType": "float64",
         "type": "float"
        },
        {
         "name": "60",
         "rawType": "float64",
         "type": "float"
        },
        {
         "name": "61",
         "rawType": "float64",
         "type": "float"
        },
        {
         "name": "62",
         "rawType": "float64",
         "type": "float"
        },
        {
         "name": "63",
         "rawType": "float64",
         "type": "float"
        },
        {
         "name": "64",
         "rawType": "float64",
         "type": "float"
        },
        {
         "name": "65",
         "rawType": "float64",
         "type": "float"
        },
        {
         "name": "66",
         "rawType": "float64",
         "type": "float"
        },
        {
         "name": "67",
         "rawType": "float64",
         "type": "float"
        },
        {
         "name": "68",
         "rawType": "float64",
         "type": "float"
        },
        {
         "name": "69",
         "rawType": "float64",
         "type": "float"
        },
        {
         "name": "70",
         "rawType": "float64",
         "type": "float"
        },
        {
         "name": "71",
         "rawType": "float64",
         "type": "float"
        },
        {
         "name": "72",
         "rawType": "float64",
         "type": "float"
        },
        {
         "name": "73",
         "rawType": "float64",
         "type": "float"
        },
        {
         "name": "74",
         "rawType": "float64",
         "type": "float"
        },
        {
         "name": "75",
         "rawType": "float64",
         "type": "float"
        },
        {
         "name": "76",
         "rawType": "float64",
         "type": "float"
        },
        {
         "name": "77",
         "rawType": "float64",
         "type": "float"
        },
        {
         "name": "78",
         "rawType": "float64",
         "type": "float"
        },
        {
         "name": "79",
         "rawType": "float64",
         "type": "float"
        },
        {
         "name": "80",
         "rawType": "float64",
         "type": "float"
        },
        {
         "name": "81",
         "rawType": "float64",
         "type": "float"
        },
        {
         "name": "82",
         "rawType": "float64",
         "type": "float"
        },
        {
         "name": "83",
         "rawType": "float64",
         "type": "float"
        },
        {
         "name": "84",
         "rawType": "float64",
         "type": "float"
        },
        {
         "name": "85",
         "rawType": "float64",
         "type": "float"
        },
        {
         "name": "86",
         "rawType": "float64",
         "type": "float"
        },
        {
         "name": "87",
         "rawType": "float64",
         "type": "float"
        },
        {
         "name": "88",
         "rawType": "float64",
         "type": "float"
        },
        {
         "name": "89",
         "rawType": "float64",
         "type": "float"
        },
        {
         "name": "90",
         "rawType": "float64",
         "type": "float"
        },
        {
         "name": "91",
         "rawType": "float64",
         "type": "float"
        },
        {
         "name": "92",
         "rawType": "float64",
         "type": "float"
        },
        {
         "name": "93",
         "rawType": "float64",
         "type": "float"
        },
        {
         "name": "94",
         "rawType": "float64",
         "type": "float"
        },
        {
         "name": "95",
         "rawType": "float64",
         "type": "float"
        },
        {
         "name": "96",
         "rawType": "float64",
         "type": "float"
        },
        {
         "name": "97",
         "rawType": "float64",
         "type": "float"
        },
        {
         "name": "98",
         "rawType": "float64",
         "type": "float"
        },
        {
         "name": "99",
         "rawType": "float64",
         "type": "float"
        }
       ],
       "conversionMethod": "pd.DataFrame",
       "ref": "962a0dfe-67aa-46a9-8f1e-4ae7387c8973",
       "rows": [
        [
         "0",
         "coherence",
         null,
         null,
         null,
         null,
         "4.0",
         "4.666666666666667",
         "4.333333333333333",
         "4.0",
         "4.0",
         "4.333333333333333",
         "4.333333333333333",
         "4.0",
         "4.333333333333333",
         "4.0",
         "4.0",
         "4.0",
         "4.0",
         "4.333333333333333",
         "4.0",
         "4.333333333333333",
         "4.5",
         "4.0",
         "4.0",
         "4.0",
         "4.666666666666667",
         "4.0",
         "4.5",
         "4.333333333333333",
         "4.5",
         "4.0",
         "4.333333333333333",
         "4.0",
         "4.0",
         "4.333333333333333",
         "4.0",
         "4.666666666666667",
         "4.333333333333333",
         "4.0",
         "4.666666666666667",
         "4.333333333333333",
         "4.0",
         "4.0",
         "4.0",
         "4.333333333333333",
         "4.5",
         "4.0",
         "4.0",
         "4.5",
         "4.333333333333333",
         "4.333333333333333",
         "4.0",
         "4.0",
         "4.0",
         "4.0",
         "4.0",
         "4.0",
         "4.333333333333333",
         "4.0",
         "4.0",
         "4.333333333333333",
         "4.333333333333333",
         "4.333333333333333",
         "4.666666666666667",
         "4.333333333333333",
         "4.333333333333333",
         "4.0",
         "4.0",
         "4.333333333333333",
         "4.0",
         "4.333333333333333",
         "4.333333333333333",
         "4.333333333333333",
         "4.333333333333333",
         "4.0",
         "4.0",
         "4.333333333333333",
         "4.0",
         "4.333333333333333",
         "4.0",
         "4.0",
         "4.0",
         "4.333333333333333",
         "4.333333333333333",
         "4.0",
         "4.0",
         "4.0",
         "4.0",
         "4.0",
         "4.5",
         "4.333333333333333",
         "4.0",
         "4.0",
         "4.333333333333333",
         "4.333333333333333",
         "4.5",
         "4.0",
         "4.0",
         "4.0",
         "4.0",
         "5.0",
         "4.333333333333333",
         "4.333333333333333",
         "4.333333333333333",
         "4.333333333333333"
        ],
        [
         "1",
         "fluency",
         null,
         null,
         null,
         null,
         "4.666666666666667",
         "5.0",
         "4.666666666666667",
         "4.666666666666667",
         "5.0",
         "4.666666666666667",
         "4.333333333333333",
         "4.333333333333333",
         "5.0",
         "5.0",
         "5.0",
         "5.0",
         "4.5",
         "4.666666666666667",
         "5.0",
         "4.666666666666667",
         "4.5",
         "4.666666666666667",
         "4.333333333333333",
         "5.0",
         "5.0",
         "5.0",
         "4.5",
         "4.666666666666667",
         "4.5",
         "5.0",
         "4.666666666666667",
         "5.0",
         "4.0",
         "4.666666666666667",
         "5.0",
         "4.666666666666667",
         "4.666666666666667",
         "4.666666666666667",
         "4.666666666666667",
         "5.0",
         "5.0",
         "4.333333333333333",
         "4.666666666666667",
         "4.333333333333333",
         "5.0",
         "4.666666666666667",
         "4.666666666666667",
         "4.5",
         "4.666666666666667",
         "4.666666666666667",
         "5.0",
         "5.0",
         "4.333333333333333",
         "4.666666666666667",
         "4.666666666666667",
         "5.0",
         "4.666666666666667",
         "4.666666666666667",
         "5.0",
         "4.333333333333333",
         "4.666666666666667",
         "5.0",
         "5.0",
         "5.0",
         "4.333333333333333",
         "4.333333333333333",
         "4.333333333333333",
         "4.666666666666667",
         "4.666666666666667",
         "4.666666666666667",
         "4.666666666666667",
         "4.666666666666667",
         "5.0",
         "4.666666666666667",
         "4.666666666666667",
         "4.333333333333333",
         "4.666666666666667",
         "4.666666666666667",
         "5.0",
         "5.0",
         "4.666666666666667",
         "4.666666666666667",
         "5.0",
         "5.0",
         "4.666666666666667",
         "5.0",
         "5.0",
         "4.666666666666667",
         "5.0",
         "4.666666666666667",
         "4.666666666666667",
         "5.0",
         "4.666666666666667",
         "4.666666666666667",
         "5.0",
         "5.0",
         "5.0",
         "4.666666666666667",
         "5.0",
         "5.0",
         "4.666666666666667",
         "4.666666666666667",
         "5.0",
         "4.666666666666667"
        ],
        [
         "2",
         "relevance",
         null,
         null,
         null,
         null,
         "4.333333333333333",
         "4.666666666666667",
         "4.666666666666667",
         "4.333333333333333",
         "4.0",
         "4.666666666666667",
         "4.666666666666667",
         "5.0",
         "4.333333333333333",
         "4.333333333333333",
         "4.0",
         "4.0",
         "4.5",
         "4.666666666666667",
         "4.0",
         "4.333333333333333",
         "4.5",
         "4.333333333333333",
         "4.666666666666667",
         "4.0",
         "4.666666666666667",
         "4.0",
         "5.0",
         "4.333333333333333",
         "5.0",
         "4.333333333333333",
         "4.333333333333333",
         "4.0",
         "4.666666666666667",
         "4.666666666666667",
         "4.0",
         "5.0",
         "4.333333333333333",
         "4.666666666666667",
         "5.0",
         "4.333333333333333",
         "4.0",
         "4.666666666666667",
         "4.333333333333333",
         "5.0",
         "4.5",
         "4.333333333333333",
         "4.333333333333333",
         "5.0",
         "4.333333333333333",
         "4.333333333333333",
         "4.0",
         "4.0",
         "4.666666666666667",
         "4.333333333333333",
         "4.333333333333333",
         "4.333333333333333",
         "4.333333333333333",
         "4.333333333333333",
         "3.5",
         "4.666666666666667",
         "4.333333333333333",
         "4.333333333333333",
         "4.666666666666667",
         "4.0",
         "5.0",
         "5.0",
         "4.666666666666667",
         "4.333333333333333",
         "4.333333333333333",
         "4.666666666666667",
         "4.666666666666667",
         "4.333333333333333",
         "4.333333333333333",
         "4.333333333333333",
         "4.333333333333333",
         "4.666666666666667",
         "4.333333333333333",
         "4.333333333333333",
         "3.6666666666666665",
         "4.0",
         "4.333333333333333",
         "4.333333333333333",
         "4.333333333333333",
         "4.0",
         "4.333333333333333",
         "4.0",
         "4.0",
         "4.333333333333333",
         "4.5",
         "4.333333333333333",
         "4.333333333333333",
         "4.0",
         "4.333333333333333",
         "4.333333333333333",
         "4.5",
         "4.0",
         "4.0",
         "4.333333333333333",
         "4.0",
         "4.5",
         "4.333333333333333",
         "4.333333333333333",
         "4.333333333333333",
         "4.333333333333333"
        ],
        [
         "3",
         "consistency",
         null,
         null,
         null,
         null,
         "4.333333333333333",
         "4.666666666666667",
         "4.666666666666667",
         "4.666666666666667",
         "5.0",
         "4.333333333333333",
         "4.333333333333333",
         "4.0",
         "4.666666666666667",
         "4.666666666666667",
         "5.0",
         "5.0",
         "4.5",
         "4.666666666666667",
         "5.0",
         "5.0",
         "4.5",
         "4.666666666666667",
         "4.333333333333333",
         "4.5",
         "5.0",
         "5.0",
         "4.5",
         "4.666666666666667",
         "4.5",
         "4.666666666666667",
         "4.666666666666667",
         "4.0",
         "4.333333333333333",
         "4.666666666666667",
         "5.0",
         "4.333333333333333",
         "4.0",
         "4.333333333333333",
         "4.333333333333333",
         "5.0",
         "5.0",
         "4.333333333333333",
         "4.0",
         "4.0",
         "5.0",
         "4.666666666666667",
         "4.666666666666667",
         "4.5",
         "4.666666666666667",
         "4.666666666666667",
         "5.0",
         "5.0",
         "4.333333333333333",
         "4.666666666666667",
         "4.666666666666667",
         "4.666666666666667",
         "4.666666666666667",
         "4.666666666666667",
         "5.0",
         "4.333333333333333",
         "4.666666666666667",
         "5.0",
         "5.0",
         "4.666666666666667",
         "4.333333333333333",
         "4.0",
         "4.333333333333333",
         "4.666666666666667",
         "4.333333333333333",
         "4.666666666666667",
         "4.666666666666667",
         "4.666666666666667",
         "5.0",
         "4.666666666666667",
         "4.666666666666667",
         "4.333333333333333",
         "4.666666666666667",
         "4.666666666666667",
         "4.666666666666667",
         "5.0",
         "4.666666666666667",
         "4.666666666666667",
         "5.0",
         "4.666666666666667",
         "4.666666666666667",
         "4.333333333333333",
         "4.666666666666667",
         "4.666666666666667",
         "5.0",
         "4.666666666666667",
         "4.666666666666667",
         "4.333333333333333",
         "4.666666666666667",
         "4.333333333333333",
         "4.5",
         "5.0",
         "5.0",
         "4.333333333333333",
         "4.666666666666667",
         "5.0",
         "4.666666666666667",
         "4.333333333333333",
         "5.0",
         "4.0"
        ]
       ],
       "shape": {
        "columns": 105,
        "rows": 4
       }
      },
      "text/html": [
       "<div>\n",
       "<style scoped>\n",
       "    .dataframe tbody tr th:only-of-type {\n",
       "        vertical-align: middle;\n",
       "    }\n",
       "\n",
       "    .dataframe tbody tr th {\n",
       "        vertical-align: top;\n",
       "    }\n",
       "\n",
       "    .dataframe thead th {\n",
       "        text-align: right;\n",
       "    }\n",
       "</style>\n",
       "<table border=\"1\" class=\"dataframe\">\n",
       "  <thead>\n",
       "    <tr style=\"text-align: right;\">\n",
       "      <th></th>\n",
       "      <th>Unnamed: 0</th>\n",
       "      <th>coherence</th>\n",
       "      <th>fluency</th>\n",
       "      <th>relevance</th>\n",
       "      <th>consistency</th>\n",
       "      <th>0</th>\n",
       "      <th>1</th>\n",
       "      <th>2</th>\n",
       "      <th>3</th>\n",
       "      <th>4</th>\n",
       "      <th>...</th>\n",
       "      <th>90</th>\n",
       "      <th>91</th>\n",
       "      <th>92</th>\n",
       "      <th>93</th>\n",
       "      <th>94</th>\n",
       "      <th>95</th>\n",
       "      <th>96</th>\n",
       "      <th>97</th>\n",
       "      <th>98</th>\n",
       "      <th>99</th>\n",
       "    </tr>\n",
       "  </thead>\n",
       "  <tbody>\n",
       "    <tr>\n",
       "      <th>0</th>\n",
       "      <td>coherence</td>\n",
       "      <td>NaN</td>\n",
       "      <td>NaN</td>\n",
       "      <td>NaN</td>\n",
       "      <td>NaN</td>\n",
       "      <td>4.000000</td>\n",
       "      <td>4.666667</td>\n",
       "      <td>4.333333</td>\n",
       "      <td>4.000000</td>\n",
       "      <td>4.0</td>\n",
       "      <td>...</td>\n",
       "      <td>4.5</td>\n",
       "      <td>4.0</td>\n",
       "      <td>4.0</td>\n",
       "      <td>4.000000</td>\n",
       "      <td>4.000000</td>\n",
       "      <td>5.0</td>\n",
       "      <td>4.333333</td>\n",
       "      <td>4.333333</td>\n",
       "      <td>4.333333</td>\n",
       "      <td>4.333333</td>\n",
       "    </tr>\n",
       "    <tr>\n",
       "      <th>1</th>\n",
       "      <td>fluency</td>\n",
       "      <td>NaN</td>\n",
       "      <td>NaN</td>\n",
       "      <td>NaN</td>\n",
       "      <td>NaN</td>\n",
       "      <td>4.666667</td>\n",
       "      <td>5.000000</td>\n",
       "      <td>4.666667</td>\n",
       "      <td>4.666667</td>\n",
       "      <td>5.0</td>\n",
       "      <td>...</td>\n",
       "      <td>5.0</td>\n",
       "      <td>5.0</td>\n",
       "      <td>5.0</td>\n",
       "      <td>4.666667</td>\n",
       "      <td>5.000000</td>\n",
       "      <td>5.0</td>\n",
       "      <td>4.666667</td>\n",
       "      <td>4.666667</td>\n",
       "      <td>5.000000</td>\n",
       "      <td>4.666667</td>\n",
       "    </tr>\n",
       "    <tr>\n",
       "      <th>2</th>\n",
       "      <td>relevance</td>\n",
       "      <td>NaN</td>\n",
       "      <td>NaN</td>\n",
       "      <td>NaN</td>\n",
       "      <td>NaN</td>\n",
       "      <td>4.333333</td>\n",
       "      <td>4.666667</td>\n",
       "      <td>4.666667</td>\n",
       "      <td>4.333333</td>\n",
       "      <td>4.0</td>\n",
       "      <td>...</td>\n",
       "      <td>4.5</td>\n",
       "      <td>4.0</td>\n",
       "      <td>4.0</td>\n",
       "      <td>4.333333</td>\n",
       "      <td>4.000000</td>\n",
       "      <td>4.5</td>\n",
       "      <td>4.333333</td>\n",
       "      <td>4.333333</td>\n",
       "      <td>4.333333</td>\n",
       "      <td>4.333333</td>\n",
       "    </tr>\n",
       "    <tr>\n",
       "      <th>3</th>\n",
       "      <td>consistency</td>\n",
       "      <td>NaN</td>\n",
       "      <td>NaN</td>\n",
       "      <td>NaN</td>\n",
       "      <td>NaN</td>\n",
       "      <td>4.333333</td>\n",
       "      <td>4.666667</td>\n",
       "      <td>4.666667</td>\n",
       "      <td>4.666667</td>\n",
       "      <td>5.0</td>\n",
       "      <td>...</td>\n",
       "      <td>4.5</td>\n",
       "      <td>5.0</td>\n",
       "      <td>5.0</td>\n",
       "      <td>4.333333</td>\n",
       "      <td>4.666667</td>\n",
       "      <td>5.0</td>\n",
       "      <td>4.666667</td>\n",
       "      <td>4.333333</td>\n",
       "      <td>5.000000</td>\n",
       "      <td>4.000000</td>\n",
       "    </tr>\n",
       "  </tbody>\n",
       "</table>\n",
       "<p>4 rows × 105 columns</p>\n",
       "</div>"
      ],
      "text/plain": [
       "    Unnamed: 0  coherence  fluency  relevance  consistency         0  \\\n",
       "0    coherence        NaN      NaN        NaN          NaN  4.000000   \n",
       "1      fluency        NaN      NaN        NaN          NaN  4.666667   \n",
       "2    relevance        NaN      NaN        NaN          NaN  4.333333   \n",
       "3  consistency        NaN      NaN        NaN          NaN  4.333333   \n",
       "\n",
       "          1         2         3    4  ...   90   91   92        93        94  \\\n",
       "0  4.666667  4.333333  4.000000  4.0  ...  4.5  4.0  4.0  4.000000  4.000000   \n",
       "1  5.000000  4.666667  4.666667  5.0  ...  5.0  5.0  5.0  4.666667  5.000000   \n",
       "2  4.666667  4.666667  4.333333  4.0  ...  4.5  4.0  4.0  4.333333  4.000000   \n",
       "3  4.666667  4.666667  4.666667  5.0  ...  4.5  5.0  5.0  4.333333  4.666667   \n",
       "\n",
       "    95        96        97        98        99  \n",
       "0  5.0  4.333333  4.333333  4.333333  4.333333  \n",
       "1  5.0  4.666667  4.666667  5.000000  4.666667  \n",
       "2  4.5  4.333333  4.333333  4.333333  4.333333  \n",
       "3  5.0  4.666667  4.333333  5.000000  4.000000  \n",
       "\n",
       "[4 rows x 105 columns]"
      ]
     },
     "execution_count": 14,
     "metadata": {},
     "output_type": "execute_result"
    }
   ],
   "source": [
    "average = pd.read_csv(os.path.join('../csv', 'poor_evallm:v2_results.csv'))\n",
    "\n",
    "average.head()"
   ]
  },
  {
   "cell_type": "code",
   "execution_count": 15,
   "metadata": {},
   "outputs": [
    {
     "data": {
      "application/vnd.microsoft.datawrangler.viewer.v0+json": {
       "columns": [
        {
         "name": "index",
         "rawType": "object",
         "type": "string"
        },
        {
         "name": "0",
         "rawType": "object",
         "type": "unknown"
        },
        {
         "name": "1",
         "rawType": "object",
         "type": "unknown"
        },
        {
         "name": "2",
         "rawType": "object",
         "type": "unknown"
        },
        {
         "name": "3",
         "rawType": "object",
         "type": "unknown"
        }
       ],
       "conversionMethod": "pd.DataFrame",
       "ref": "6148d398-a1ae-4356-ba33-cc54e1d0d952",
       "rows": [
        [
         "Unnamed: 0",
         "coherence",
         "fluency",
         "relevance",
         "consistency"
        ],
        [
         "0",
         "4.0",
         "4.666666666666667",
         "4.333333333333333",
         "4.333333333333333"
        ],
        [
         "1",
         "4.666666666666667",
         "5.0",
         "4.666666666666667",
         "4.666666666666667"
        ],
        [
         "2",
         "4.333333333333333",
         "4.666666666666667",
         "4.666666666666667",
         "4.666666666666667"
        ],
        [
         "3",
         "4.0",
         "4.666666666666667",
         "4.333333333333333",
         "4.666666666666667"
        ]
       ],
       "shape": {
        "columns": 4,
        "rows": 5
       }
      },
      "text/html": [
       "<div>\n",
       "<style scoped>\n",
       "    .dataframe tbody tr th:only-of-type {\n",
       "        vertical-align: middle;\n",
       "    }\n",
       "\n",
       "    .dataframe tbody tr th {\n",
       "        vertical-align: top;\n",
       "    }\n",
       "\n",
       "    .dataframe thead th {\n",
       "        text-align: right;\n",
       "    }\n",
       "</style>\n",
       "<table border=\"1\" class=\"dataframe\">\n",
       "  <thead>\n",
       "    <tr style=\"text-align: right;\">\n",
       "      <th></th>\n",
       "      <th>0</th>\n",
       "      <th>1</th>\n",
       "      <th>2</th>\n",
       "      <th>3</th>\n",
       "    </tr>\n",
       "  </thead>\n",
       "  <tbody>\n",
       "    <tr>\n",
       "      <th>Unnamed: 0</th>\n",
       "      <td>coherence</td>\n",
       "      <td>fluency</td>\n",
       "      <td>relevance</td>\n",
       "      <td>consistency</td>\n",
       "    </tr>\n",
       "    <tr>\n",
       "      <th>0</th>\n",
       "      <td>4.0</td>\n",
       "      <td>4.666667</td>\n",
       "      <td>4.333333</td>\n",
       "      <td>4.333333</td>\n",
       "    </tr>\n",
       "    <tr>\n",
       "      <th>1</th>\n",
       "      <td>4.666667</td>\n",
       "      <td>5.0</td>\n",
       "      <td>4.666667</td>\n",
       "      <td>4.666667</td>\n",
       "    </tr>\n",
       "    <tr>\n",
       "      <th>2</th>\n",
       "      <td>4.333333</td>\n",
       "      <td>4.666667</td>\n",
       "      <td>4.666667</td>\n",
       "      <td>4.666667</td>\n",
       "    </tr>\n",
       "    <tr>\n",
       "      <th>3</th>\n",
       "      <td>4.0</td>\n",
       "      <td>4.666667</td>\n",
       "      <td>4.333333</td>\n",
       "      <td>4.666667</td>\n",
       "    </tr>\n",
       "  </tbody>\n",
       "</table>\n",
       "</div>"
      ],
      "text/plain": [
       "                    0         1          2            3\n",
       "Unnamed: 0  coherence   fluency  relevance  consistency\n",
       "0                 4.0  4.666667   4.333333     4.333333\n",
       "1            4.666667       5.0   4.666667     4.666667\n",
       "2            4.333333  4.666667   4.666667     4.666667\n",
       "3                 4.0  4.666667   4.333333     4.666667"
      ]
     },
     "execution_count": 15,
     "metadata": {},
     "output_type": "execute_result"
    }
   ],
   "source": [
    "average = average.drop(columns=['coherence', 'fluency', 'relevance', 'consistency'])\n",
    "average = average.T\n",
    "average.head()"
   ]
  },
  {
   "cell_type": "code",
   "execution_count": 16,
   "metadata": {},
   "outputs": [
    {
     "data": {
      "application/vnd.microsoft.datawrangler.viewer.v0+json": {
       "columns": [
        {
         "name": "index",
         "rawType": "object",
         "type": "string"
        },
        {
         "name": "coherence",
         "rawType": "object",
         "type": "unknown"
        },
        {
         "name": "fluency",
         "rawType": "object",
         "type": "unknown"
        },
        {
         "name": "relevance",
         "rawType": "object",
         "type": "unknown"
        },
        {
         "name": "consistency",
         "rawType": "object",
         "type": "unknown"
        }
       ],
       "conversionMethod": "pd.DataFrame",
       "ref": "54b86e1d-c72e-4ccd-be04-8075b5fdd9eb",
       "rows": [
        [
         "0",
         "4.0",
         "4.666666666666667",
         "4.333333333333333",
         "4.333333333333333"
        ],
        [
         "1",
         "4.666666666666667",
         "5.0",
         "4.666666666666667",
         "4.666666666666667"
        ],
        [
         "2",
         "4.333333333333333",
         "4.666666666666667",
         "4.666666666666667",
         "4.666666666666667"
        ],
        [
         "3",
         "4.0",
         "4.666666666666667",
         "4.333333333333333",
         "4.666666666666667"
        ],
        [
         "4",
         "4.0",
         "5.0",
         "4.0",
         "5.0"
        ]
       ],
       "shape": {
        "columns": 4,
        "rows": 5
       }
      },
      "text/html": [
       "<div>\n",
       "<style scoped>\n",
       "    .dataframe tbody tr th:only-of-type {\n",
       "        vertical-align: middle;\n",
       "    }\n",
       "\n",
       "    .dataframe tbody tr th {\n",
       "        vertical-align: top;\n",
       "    }\n",
       "\n",
       "    .dataframe thead th {\n",
       "        text-align: right;\n",
       "    }\n",
       "</style>\n",
       "<table border=\"1\" class=\"dataframe\">\n",
       "  <thead>\n",
       "    <tr style=\"text-align: right;\">\n",
       "      <th>Unnamed: 0</th>\n",
       "      <th>coherence</th>\n",
       "      <th>fluency</th>\n",
       "      <th>relevance</th>\n",
       "      <th>consistency</th>\n",
       "    </tr>\n",
       "  </thead>\n",
       "  <tbody>\n",
       "    <tr>\n",
       "      <th>0</th>\n",
       "      <td>4.0</td>\n",
       "      <td>4.666667</td>\n",
       "      <td>4.333333</td>\n",
       "      <td>4.333333</td>\n",
       "    </tr>\n",
       "    <tr>\n",
       "      <th>1</th>\n",
       "      <td>4.666667</td>\n",
       "      <td>5.0</td>\n",
       "      <td>4.666667</td>\n",
       "      <td>4.666667</td>\n",
       "    </tr>\n",
       "    <tr>\n",
       "      <th>2</th>\n",
       "      <td>4.333333</td>\n",
       "      <td>4.666667</td>\n",
       "      <td>4.666667</td>\n",
       "      <td>4.666667</td>\n",
       "    </tr>\n",
       "    <tr>\n",
       "      <th>3</th>\n",
       "      <td>4.0</td>\n",
       "      <td>4.666667</td>\n",
       "      <td>4.333333</td>\n",
       "      <td>4.666667</td>\n",
       "    </tr>\n",
       "    <tr>\n",
       "      <th>4</th>\n",
       "      <td>4.0</td>\n",
       "      <td>5.0</td>\n",
       "      <td>4.0</td>\n",
       "      <td>5.0</td>\n",
       "    </tr>\n",
       "  </tbody>\n",
       "</table>\n",
       "</div>"
      ],
      "text/plain": [
       "Unnamed: 0 coherence   fluency relevance consistency\n",
       "0                4.0  4.666667  4.333333    4.333333\n",
       "1           4.666667       5.0  4.666667    4.666667\n",
       "2           4.333333  4.666667  4.666667    4.666667\n",
       "3                4.0  4.666667  4.333333    4.666667\n",
       "4                4.0       5.0       4.0         5.0"
      ]
     },
     "execution_count": 16,
     "metadata": {},
     "output_type": "execute_result"
    }
   ],
   "source": [
    "# make the first row the header\n",
    "new_header = average.iloc[0]\n",
    "average = average[1:]\n",
    "average.columns = new_header\n",
    "average.head()"
   ]
  },
  {
   "cell_type": "code",
   "execution_count": 17,
   "metadata": {},
   "outputs": [],
   "source": [
    "average.to_csv(os.path.join('../csv', 'v2_poor_results.csv'))"
   ]
  },
  {
   "cell_type": "code",
   "execution_count": null,
   "metadata": {},
   "outputs": [],
   "source": []
  }
 ],
 "metadata": {
  "kernelspec": {
   "display_name": "venv",
   "language": "python",
   "name": "python3"
  },
  "language_info": {
   "codemirror_mode": {
    "name": "ipython",
    "version": 3
   },
   "file_extension": ".py",
   "mimetype": "text/x-python",
   "name": "python",
   "nbconvert_exporter": "python",
   "pygments_lexer": "ipython3",
   "version": "3.12.6"
  }
 },
 "nbformat": 4,
 "nbformat_minor": 2
}
