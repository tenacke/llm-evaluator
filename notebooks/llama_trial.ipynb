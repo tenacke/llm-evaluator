{
 "cells": [
  {
   "cell_type": "code",
   "execution_count": 1,
   "metadata": {},
   "outputs": [
    {
     "name": "stderr",
     "output_type": "stream",
     "text": [
      "/Users/emre/Projects/EvalLM/venv/lib/python3.12/site-packages/tqdm/auto.py:21: TqdmWarning: IProgress not found. Please update jupyter and ipywidgets. See https://ipywidgets.readthedocs.io/en/stable/user_install.html\n",
      "  from .autonotebook import tqdm as notebook_tqdm\n"
     ]
    }
   ],
   "source": [
    "import transformers\n",
    "import torch\n",
    "from transformers import AutoTokenizer, AutoModelForCausalLM, pipeline"
   ]
  },
  {
   "cell_type": "code",
   "execution_count": null,
   "metadata": {},
   "outputs": [
    {
     "name": "stderr",
     "output_type": "stream",
     "text": [
      "Device set to use mps:0\n"
     ]
    }
   ],
   "source": [
    "# if model is downloaded and added in models folder\n",
    "model_id = \"models/llama-3.2-transformers-1b-instruct-v1\"\n",
    "\n",
    "# if the model is used online from kaggle\n",
    "# model_id = \"/kaggle/input/llama-3.2/transformers/1b-instruct/1\"\n",
    "\n",
    "tokenizer = AutoTokenizer.from_pretrained(model_id,\n",
    "                                          padding_side=\"left\")\n",
    "if tokenizer.pad_token is None:\n",
    "    tokenizer.pad_token = tokenizer.eos_token\n",
    "    tokenizer.pad_token_id = tokenizer.eos_token_id\n",
    "model = AutoModelForCausalLM.from_pretrained(model_id)\n",
    "\n",
    "pipe = pipeline(\n",
    "    'text-generation',\n",
    "    model=model,\n",
    "    tokenizer=tokenizer,\n",
    ")"
   ]
  },
  {
   "cell_type": "code",
   "execution_count": 7,
   "metadata": {},
   "outputs": [
    {
     "name": "stdout",
     "output_type": "stream",
     "text": [
      "You are an evaluator of a summarization system. You are asked to evaluate and score out of 10 of the following text and its summary. The summary should be concise and capture the main points of the text. The score should reflect the quality of the summary. Please provide feedback on the quality of the summary and the score given. \n",
      "\n",
      "Input: Technology has significantly transformed the way people communicate, work, and access information. The rise of smartphones and the internet has made instant communication possible, connecting individuals across the globe. Businesses now rely on digital tools for productivity, data analysis, and automation, increasing efficiency and reducing costs. Additionally, online learning platforms have revolutionized education, making knowledge more accessible to students regardless of location. However, this rapid advancement also raises concerns about data privacy, cybersecurity, and the potential for job displacement due to automation.\n",
      "Summary: Technology has revolutionized communication, work, and education by enabling instant connectivity, automation, and accessibility.\n",
      "Score: \n"
     ]
    }
   ],
   "source": [
    "system_prompt = \"You are an evaluator of a summarization system. You are asked to evaluate and score out of 10 of the following text and its summary. The summary should be concise and capture the main points of the text. The score should reflect the quality of the summary. Please provide feedback on the quality of the summary and the score given. \\n\\n\"\n",
    "input_text = \"Technology has significantly transformed the way people communicate, work, and access information. The rise of smartphones and the internet has made instant communication possible, connecting individuals across the globe. Businesses now rely on digital tools for productivity, data analysis, and automation, increasing efficiency and reducing costs. Additionally, online learning platforms have revolutionized education, making knowledge more accessible to students regardless of location. However, this rapid advancement also raises concerns about data privacy, cybersecurity, and the potential for job displacement due to automation.\"\n",
    "output_text = \"Technology has revolutionized communication, work, and education by enabling instant connectivity, automation, and accessibility.\"\n",
    "\n",
    "prompt = system_prompt + \"Input: \" + input_text + \"\\nSummary: \" + output_text + \"\\nScore: \"\n",
    "print(prompt)"
   ]
  },
  {
   "cell_type": "code",
   "execution_count": 9,
   "metadata": {},
   "outputs": [
    {
     "name": "stdout",
     "output_type": "stream",
     "text": [
      "You are an evaluator of a summarization system. You are asked to evaluate and score out of 10 of the following text and its summary. The summary should be concise and capture the main points of the text. The score should reflect the quality of the summary. Please provide feedback on the quality of the summary and the score given. \n",
      "\n",
      "Input: Technology has significantly transformed the way people communicate, work, and access information. The rise of smartphones and the internet has made instant communication possible, connecting individuals across the globe. Businesses now rely on digital tools for productivity, data analysis, and automation, increasing efficiency and reducing costs. Additionally, online learning platforms have revolutionized education, making knowledge more accessible to students regardless of location. However, this rapid advancement also raises concerns about data privacy, cybersecurity, and the potential for job displacement due to automation.\n",
      "Summary: Technology has revolutionized communication, work, and education by enabling instant connectivity, automation, and accessibility.\n",
      "Score: 8/10\n",
      "\n",
      "Feedback: The summary is concise and effectively captures the main points of the text.\n"
     ]
    }
   ],
   "source": [
    "output = pipe(prompt)\n",
    "print(output[0]['generated_text'])"
   ]
  }
 ],
 "metadata": {
  "kernelspec": {
   "display_name": "venv",
   "language": "python",
   "name": "python3"
  },
  "language_info": {
   "codemirror_mode": {
    "name": "ipython",
    "version": 3
   },
   "file_extension": ".py",
   "mimetype": "text/x-python",
   "name": "python",
   "nbconvert_exporter": "python",
   "pygments_lexer": "ipython3",
   "version": "3.12.6"
  }
 },
 "nbformat": 4,
 "nbformat_minor": 2
}
